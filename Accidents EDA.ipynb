{
 "cells": [
  {
   "cell_type": "markdown",
   "metadata": {},
   "source": [
    "# Prediction of Involvement of Drunk Drivers in Fatal Highway Crashes\n",
    "## Inferential Statistics and Data Storytelling\n",
    "\n",
    "### Chester Hitz | Springboard Data Science Career Track | Capstone II\n",
    "\n",
    "This notebook represents work for my second capstone, following a pivot after my initial question proved unanswerable with my dataset (see: [Data Wrangling](), [EDA]()). In that initial question, I sought to predict the rate of accidents (accidents per 100k vehicles) on 72k one-kilometer segments of the US interstate system, using characteristics of the roads themselves. What I found was no significant correlation between the road characteristics and the accident rate. In fact, a linear regressor trained on the data produced an RMSE virtually identical to a dummy matrix full of zeros.\n",
    "\n",
    "In response, I have decided to use the same data to pivot my capstone towards predicting charactertistics of the crashes themselves using the FARS dataset. The factor I will try to predict is **whether or not at least one of the vehicles involved in the fatal collision had a drunk driver**. \n",
    "\n",
    "There is a massive number of information contained as features for each accident and it is easier in this case to extract useful information from the dataset rather than pare off useless info. In this case, I am instead going to focus on:\n",
    "* Timing: Time of day and day of week.\n",
    "* Crash events: Contained within the five PCRASH variables is a sequence of 5 steps that happen in every crash, with each step describing a different event. More description in section.\n",
    "* Various other factors: Involvement of speeding and road type.\n",
    "\n",
    "### The Data\n",
    "\n",
    "The data being used here comes from the Fatality Analysis Reporting System (FARS), which I used in the previous version of my capstone to map out different highway segments. It covers every fatal road accident in the United States in the years I have selected, 2010-2014. I also have used QGIS to join the various characteristics (speed limit, curviness of road, presence of median on the road) of the road segments the crashes occured on to the data. To my knowledge, this has not been tried in the past and I hope will lead to better predictions of my target variable.\n",
    "\n",
    "The first step is to import necessary libraries and load in the data:"
   ]
  },
  {
   "cell_type": "code",
   "execution_count": 1,
   "metadata": {
    "scrolled": true
   },
   "outputs": [
    {
     "data": {
      "text/html": [
       "<script>requirejs.config({paths: { 'plotly': ['https://cdn.plot.ly/plotly-latest.min']},});if(!window.Plotly) {{require(['plotly'],function(plotly) {window.Plotly=plotly;});}}</script>"
      ],
      "text/vnd.plotly.v1+html": [
       "<script>requirejs.config({paths: { 'plotly': ['https://cdn.plot.ly/plotly-latest.min']},});if(!window.Plotly) {{require(['plotly'],function(plotly) {window.Plotly=plotly;});}}</script>"
      ]
     },
     "metadata": {},
     "output_type": "display_data"
    },
    {
     "name": "stdout",
     "output_type": "stream",
     "text": [
      "2010 : 30296\n",
      "2011 : 29867\n",
      "2012 : 31006\n",
      "2013 : 30202\n",
      "2014 : 30056\n",
      "(224992, 176)\n",
      "<class 'pandas.core.frame.DataFrame'>\n",
      "Int64Index: 224992 entries, 0 to 44949\n",
      "Columns: 176 entries, ACC_TYPE to YEAR\n",
      "dtypes: float64(19), int64(128), object(29)\n",
      "memory usage: 303.8+ MB\n",
      "None\n"
     ]
    }
   ],
   "source": [
    "import numpy as np\n",
    "import pandas as pd\n",
    "from plotly.offline import download_plotlyjs, init_notebook_mode, plot, iplot\n",
    "import plotly.graph_objs as go\n",
    "from collections import Counter\n",
    "import seaborn as sns\n",
    "import matplotlib.pyplot as plt\n",
    "\n",
    "init_notebook_mode(connected=True)\n",
    "\n",
    "df = pd.DataFrame()\n",
    "for year in ['2010','2011','2012','2013','2014']:\n",
    "    year_df = pd.read_csv(str('FARS zips/' + year + '_accident.csv'), low_memory=False)\n",
    "    vehicle_df = pd.read_csv('FARS zips/' + year + '_vehicle.csv', low_memory=False)\n",
    "    print(year,':',len(year_df))\n",
    "    year_df = year_df.merge(vehicle_df, on='ST_CASE', suffixes=('', '_y'))\n",
    "    df = pd.concat([df, year_df])\n",
    "\n",
    "print(df.shape)\n",
    "print(df.info())"
   ]
  },
  {
   "cell_type": "code",
   "execution_count": 2,
   "metadata": {
    "scrolled": false
   },
   "outputs": [
    {
     "data": {
      "text/html": [
       "<div>\n",
       "<style>\n",
       "    .dataframe thead tr:only-child th {\n",
       "        text-align: right;\n",
       "    }\n",
       "\n",
       "    .dataframe thead th {\n",
       "        text-align: left;\n",
       "    }\n",
       "\n",
       "    .dataframe tbody tr th {\n",
       "        vertical-align: top;\n",
       "    }\n",
       "</style>\n",
       "<table border=\"1\" class=\"dataframe\">\n",
       "  <thead>\n",
       "    <tr style=\"text-align: right;\">\n",
       "      <th></th>\n",
       "      <th>ACC_TYPE</th>\n",
       "      <th>ARR_HOUR</th>\n",
       "      <th>ARR_MIN</th>\n",
       "      <th>BODY_TYP</th>\n",
       "      <th>BUS_USE</th>\n",
       "      <th>CARBUR</th>\n",
       "      <th>CARGO_BT</th>\n",
       "      <th>CDL_STAT</th>\n",
       "      <th>CF1</th>\n",
       "      <th>CF2</th>\n",
       "      <th>...</th>\n",
       "      <th>V_CONFIG</th>\n",
       "      <th>WEATHER</th>\n",
       "      <th>WEATHER1</th>\n",
       "      <th>WEATHER2</th>\n",
       "      <th>WGTCD_TR</th>\n",
       "      <th>WHLBS_LG</th>\n",
       "      <th>WHLBS_SH</th>\n",
       "      <th>WHLDRWHL</th>\n",
       "      <th>WRK_ZONE</th>\n",
       "      <th>YEAR</th>\n",
       "    </tr>\n",
       "  </thead>\n",
       "  <tbody>\n",
       "    <tr>\n",
       "      <th>0</th>\n",
       "      <td>1</td>\n",
       "      <td>4</td>\n",
       "      <td>20</td>\n",
       "      <td>15</td>\n",
       "      <td>0</td>\n",
       "      <td>NaN</td>\n",
       "      <td>0</td>\n",
       "      <td>0</td>\n",
       "      <td>0</td>\n",
       "      <td>0</td>\n",
       "      <td>...</td>\n",
       "      <td>0</td>\n",
       "      <td>1</td>\n",
       "      <td>1</td>\n",
       "      <td>0</td>\n",
       "      <td>1.000000e+16</td>\n",
       "      <td>0.000000e+00</td>\n",
       "      <td>1.191000e+03</td>\n",
       "      <td>NaN</td>\n",
       "      <td>0</td>\n",
       "      <td>2010</td>\n",
       "    </tr>\n",
       "    <tr>\n",
       "      <th>1</th>\n",
       "      <td>6</td>\n",
       "      <td>6</td>\n",
       "      <td>9</td>\n",
       "      <td>4</td>\n",
       "      <td>0</td>\n",
       "      <td>NaN</td>\n",
       "      <td>0</td>\n",
       "      <td>0</td>\n",
       "      <td>0</td>\n",
       "      <td>0</td>\n",
       "      <td>...</td>\n",
       "      <td>0</td>\n",
       "      <td>1</td>\n",
       "      <td>1</td>\n",
       "      <td>0</td>\n",
       "      <td>1.000000e+16</td>\n",
       "      <td>0.000000e+00</td>\n",
       "      <td>1.080000e+03</td>\n",
       "      <td>NaN</td>\n",
       "      <td>0</td>\n",
       "      <td>2010</td>\n",
       "    </tr>\n",
       "    <tr>\n",
       "      <th>2</th>\n",
       "      <td>69</td>\n",
       "      <td>15</td>\n",
       "      <td>16</td>\n",
       "      <td>80</td>\n",
       "      <td>0</td>\n",
       "      <td>NaN</td>\n",
       "      <td>0</td>\n",
       "      <td>0</td>\n",
       "      <td>0</td>\n",
       "      <td>0</td>\n",
       "      <td>...</td>\n",
       "      <td>0</td>\n",
       "      <td>1</td>\n",
       "      <td>1</td>\n",
       "      <td>0</td>\n",
       "      <td>1.000000e+16</td>\n",
       "      <td>1.000000e+16</td>\n",
       "      <td>1.000000e+16</td>\n",
       "      <td>NaN</td>\n",
       "      <td>0</td>\n",
       "      <td>2010</td>\n",
       "    </tr>\n",
       "    <tr>\n",
       "      <th>3</th>\n",
       "      <td>68</td>\n",
       "      <td>15</td>\n",
       "      <td>16</td>\n",
       "      <td>4</td>\n",
       "      <td>0</td>\n",
       "      <td>NaN</td>\n",
       "      <td>0</td>\n",
       "      <td>0</td>\n",
       "      <td>0</td>\n",
       "      <td>0</td>\n",
       "      <td>...</td>\n",
       "      <td>0</td>\n",
       "      <td>1</td>\n",
       "      <td>1</td>\n",
       "      <td>0</td>\n",
       "      <td>1.000000e+16</td>\n",
       "      <td>0.000000e+00</td>\n",
       "      <td>1.093000e+03</td>\n",
       "      <td>NaN</td>\n",
       "      <td>0</td>\n",
       "      <td>2010</td>\n",
       "    </tr>\n",
       "    <tr>\n",
       "      <th>4</th>\n",
       "      <td>98</td>\n",
       "      <td>15</td>\n",
       "      <td>16</td>\n",
       "      <td>4</td>\n",
       "      <td>0</td>\n",
       "      <td>NaN</td>\n",
       "      <td>0</td>\n",
       "      <td>0</td>\n",
       "      <td>0</td>\n",
       "      <td>0</td>\n",
       "      <td>...</td>\n",
       "      <td>0</td>\n",
       "      <td>1</td>\n",
       "      <td>1</td>\n",
       "      <td>0</td>\n",
       "      <td>1.000000e+16</td>\n",
       "      <td>0.000000e+00</td>\n",
       "      <td>1.102000e+03</td>\n",
       "      <td>NaN</td>\n",
       "      <td>0</td>\n",
       "      <td>2010</td>\n",
       "    </tr>\n",
       "  </tbody>\n",
       "</table>\n",
       "<p>5 rows × 176 columns</p>\n",
       "</div>"
      ],
      "text/plain": [
       "   ACC_TYPE  ARR_HOUR  ARR_MIN  BODY_TYP  BUS_USE CARBUR  CARGO_BT  CDL_STAT  \\\n",
       "0         1         4       20        15        0    NaN         0         0   \n",
       "1         6         6        9         4        0    NaN         0         0   \n",
       "2        69        15       16        80        0    NaN         0         0   \n",
       "3        68        15       16         4        0    NaN         0         0   \n",
       "4        98        15       16         4        0    NaN         0         0   \n",
       "\n",
       "   CF1  CF2  ...   V_CONFIG  WEATHER  WEATHER1 WEATHER2      WGTCD_TR  \\\n",
       "0    0    0  ...          0        1         1        0  1.000000e+16   \n",
       "1    0    0  ...          0        1         1        0  1.000000e+16   \n",
       "2    0    0  ...          0        1         1        0  1.000000e+16   \n",
       "3    0    0  ...          0        1         1        0  1.000000e+16   \n",
       "4    0    0  ...          0        1         1        0  1.000000e+16   \n",
       "\n",
       "       WHLBS_LG      WHLBS_SH  WHLDRWHL  WRK_ZONE  YEAR  \n",
       "0  0.000000e+00  1.191000e+03       NaN         0  2010  \n",
       "1  0.000000e+00  1.080000e+03       NaN         0  2010  \n",
       "2  1.000000e+16  1.000000e+16       NaN         0  2010  \n",
       "3  0.000000e+00  1.093000e+03       NaN         0  2010  \n",
       "4  0.000000e+00  1.102000e+03       NaN         0  2010  \n",
       "\n",
       "[5 rows x 176 columns]"
      ]
     },
     "execution_count": 2,
     "metadata": {},
     "output_type": "execute_result"
    }
   ],
   "source": [
    "df.head(5)"
   ]
  },
  {
   "cell_type": "markdown",
   "metadata": {},
   "source": [
    "As we can see from the shape attribute, there are a lot of column in the dataframe - 159 in all."
   ]
  },
  {
   "cell_type": "markdown",
   "metadata": {},
   "source": [
    "\n",
    "\n",
    "## Exploratory Data Analysis\n",
    "The first questions are: How many fatal crashes occured, and how many of them involved a drunk driver?"
   ]
  },
  {
   "cell_type": "code",
   "execution_count": 4,
   "metadata": {
    "scrolled": true
   },
   "outputs": [
    {
     "data": {
      "text/plain": [
       "0    161198\n",
       "1     60797\n",
       "2      2858\n",
       "3       112\n",
       "4        27\n",
       "Name: DRUNK_DR, dtype: int64"
      ]
     },
     "execution_count": 4,
     "metadata": {},
     "output_type": "execute_result"
    }
   ],
   "source": [
    "df.DRUNK_DR.value_counts()"
   ]
  },
  {
   "cell_type": "markdown",
   "metadata": {},
   "source": [
    "Of the 40,237 crashes that occured, 29,291 of them did not have a drunk driver and 10,455 had at least one drunk driver, with 481 of those having two drunk drivers and, somehow, 27 of them involved *four* drunk drivers. Since the question here is whether or not a drunk driver was involved in the crash, I'm going to quickly transform our target variable to a boolean variable DRUNK_INV."
   ]
  },
  {
   "cell_type": "code",
   "execution_count": 5,
   "metadata": {
    "scrolled": false
   },
   "outputs": [
    {
     "name": "stdout",
     "output_type": "stream",
     "text": [
      "       DRUNK_INV  DRUNK_DR\n",
      "44945       True         1\n",
      "44946      False         0\n",
      "44947       True         1\n",
      "44948      False         0\n",
      "44949       True         1\n"
     ]
    }
   ],
   "source": [
    "df['DRUNK_INV'] = df['DRUNK_DR'] > 0\n",
    "\n",
    "# and a quick check\n",
    "print(df[['DRUNK_INV','DRUNK_DR']].tail())"
   ]
  },
  {
   "cell_type": "markdown",
   "metadata": {},
   "source": [
    "### Preliminary Data Cleaning\n",
    "\n",
    "While the data coming in from the FARS database is largely already cleaned, there are still a lot of unnecessary features attached to the data. More detailed descriptions of the various features can be found in the [FARS Analytical User’s Manual](https://crashstats.nhtsa.dot.gov/Api/Public/ViewPublication/812447), but rough summaries are given below as various features irrelevant to the target data are dropped."
   ]
  },
  {
   "cell_type": "code",
   "execution_count": 22,
   "metadata": {
    "scrolled": false
   },
   "outputs": [],
   "source": [
    "# drops duplicate columns\n",
    "for x in df.columns:\n",
    "    if '_y' in x: df.drop(x, axis=1, inplace=True)\n",
    "\n",
    "# this is not efficient code, but I am organizing it like this to better show my thinking.\n",
    "target = ['DRUNK_INV']\n",
    "\n",
    "# timing conditions: hour of day, day of the week, light conditions\n",
    "timing = ['HOUR','DAY_WEEK','LGT_COND']\n",
    "\n",
    "# the events in the crash\n",
    "crash_events = ['CF1','CF2','CF3','P_CRASH1','P_CRASH2','P_CRASH3','PCRASH4','PCRASH5']\n",
    "\n",
    "# Various other factors: Vehicle speed, speed limit, route, and total number of fatalities.\n",
    "others = ['VSPD_LIM','TRAV_SP','FATALS','ROUTE']\n",
    "\n",
    "df = df[target + timing + crash_events + others]\n",
    "df = df.reset_index()"
   ]
  },
  {
   "cell_type": "markdown",
   "metadata": {},
   "source": [
    "Of those factors selected, we can do a quick test for correlation keeping in mind many of the factors will not be neatly linearly correlated due to their categorical nature."
   ]
  },
  {
   "cell_type": "code",
   "execution_count": 23,
   "metadata": {
    "scrolled": false
   },
   "outputs": [
    {
     "data": {
      "text/plain": [
       "index       -0.009332\n",
       "DRUNK_INV    1.000000\n",
       "HOUR        -0.028328\n",
       "DAY_WEEK     0.020281\n",
       "LGT_COND     0.203954\n",
       "CF1         -0.010622\n",
       "CF2         -0.007704\n",
       "CF3          0.000839\n",
       "P_CRASH1     0.040560\n",
       "P_CRASH2    -0.181923\n",
       "P_CRASH3     0.002418\n",
       "PCRASH4      0.052724\n",
       "PCRASH5      0.176708\n",
       "VSPD_LIM    -0.045501\n",
       "TRAV_SP      0.178911\n",
       "FATALS       0.031176\n",
       "ROUTE        0.056413\n",
       "Name: DRUNK_INV, dtype: float64"
      ]
     },
     "execution_count": 23,
     "metadata": {},
     "output_type": "execute_result"
    }
   ],
   "source": [
    "df.corr()['DRUNK_INV']"
   ]
  },
  {
   "cell_type": "markdown",
   "metadata": {},
   "source": [
    "----------------------------------------------\n",
    "### Time\n",
    "\n",
    "The first set of factors to look at are the time variables. The HOUR variable is naturally set to a normal 24-hour clock, but that does not naturally align with our conceptions of night and day since midnight resets everything. If we apply the function below to the HOUR series, it transforms the hour series into HOURS since 5am, or dawn in most regions. This is a more accurate reflection of societal rhythms. This is best illustrated with two bar plots, one for the regular 24 hr clock and the other for time since 5AM."
   ]
  },
  {
   "cell_type": "code",
   "execution_count": 9,
   "metadata": {
    "scrolled": false
   },
   "outputs": [
    {
     "data": {
      "application/vnd.plotly.v1+json": {
       "data": [
        {
         "marker": {
          "color": "#106f7c"
         },
         "name": "Sober",
         "type": "bar",
         "x": [
          "1:00",
          "2:00",
          "3:00",
          "4:00",
          "5:00",
          "6:00",
          "7:00",
          "8:00",
          "9:00",
          "10:00",
          "11:00",
          "12:00",
          "13:00",
          "14:00",
          "15:00",
          "16:00",
          "17:00",
          "18:00",
          "19:00",
          "20:00",
          "21:00",
          "22:00",
          "23:00"
         ],
         "y": [
          3174,
          2703,
          2584,
          2224,
          2664,
          4429,
          6635,
          7157,
          6301,
          6433,
          7397,
          8186,
          9024,
          9568,
          10174,
          10821,
          10678,
          10470,
          9411,
          7506,
          7053,
          6589,
          5238,
          4176,
          null
         ]
        },
        {
         "marker": {
          "color": "#c14b22"
         },
         "name": "Drunk",
         "textposition": "auto",
         "type": "bar",
         "x": [
          "1:00",
          "2:00",
          "3:00",
          "4:00",
          "5:00",
          "6:00",
          "7:00",
          "8:00",
          "9:00",
          "10:00",
          "11:00",
          "12:00",
          "13:00",
          "14:00",
          "15:00",
          "16:00",
          "17:00",
          "18:00",
          "19:00",
          "20:00",
          "21:00",
          "22:00",
          "23:00"
         ],
         "y": [
          4569,
          4677,
          5610,
          3528,
          2229,
          1669,
          1474,
          1039,
          701,
          603,
          628,
          780,
          950,
          1197,
          1548,
          2061,
          2479,
          2974,
          3464,
          3780,
          4113,
          4348,
          4307,
          4497,
          null
         ]
        }
       ],
       "layout": {
        "barmode": "stack",
        "title": "Drunk Driver Involved Accidents Per Hour of Day",
        "xaxis": {
         "title": "Hour of Day"
        },
        "yaxis": {
         "title": "Crashes"
        }
       }
      },
      "text/html": [
       "<div id=\"7b7e3458-82c3-40e1-b5e6-7791ba00a948\" style=\"height: 525px; width: 100%;\" class=\"plotly-graph-div\"></div><script type=\"text/javascript\">require([\"plotly\"], function(Plotly) { window.PLOTLYENV=window.PLOTLYENV || {};window.PLOTLYENV.BASE_URL=\"https://plot.ly\";Plotly.newPlot(\"7b7e3458-82c3-40e1-b5e6-7791ba00a948\", [{\"type\": \"bar\", \"x\": [\"1:00\", \"2:00\", \"3:00\", \"4:00\", \"5:00\", \"6:00\", \"7:00\", \"8:00\", \"9:00\", \"10:00\", \"11:00\", \"12:00\", \"13:00\", \"14:00\", \"15:00\", \"16:00\", \"17:00\", \"18:00\", \"19:00\", \"20:00\", \"21:00\", \"22:00\", \"23:00\"], \"y\": [3174, 2703, 2584, 2224, 2664, 4429, 6635, 7157, 6301, 6433, 7397, 8186, 9024, 9568, 10174, 10821, 10678, 10470, 9411, 7506, 7053, 6589, 5238, 4176, null], \"name\": \"Sober\", \"marker\": {\"color\": \"#106f7c\"}}, {\"type\": \"bar\", \"x\": [\"1:00\", \"2:00\", \"3:00\", \"4:00\", \"5:00\", \"6:00\", \"7:00\", \"8:00\", \"9:00\", \"10:00\", \"11:00\", \"12:00\", \"13:00\", \"14:00\", \"15:00\", \"16:00\", \"17:00\", \"18:00\", \"19:00\", \"20:00\", \"21:00\", \"22:00\", \"23:00\"], \"y\": [4569, 4677, 5610, 3528, 2229, 1669, 1474, 1039, 701, 603, 628, 780, 950, 1197, 1548, 2061, 2479, 2974, 3464, 3780, 4113, 4348, 4307, 4497, null], \"name\": \"Drunk\", \"textposition\": \"auto\", \"marker\": {\"color\": \"#c14b22\"}}], {\"barmode\": \"stack\", \"title\": \"Drunk Driver Involved Accidents Per Hour of Day\", \"yaxis\": {\"title\": \"Crashes\"}, \"xaxis\": {\"title\": \"Hour of Day\"}}, {\"showLink\": true, \"linkText\": \"Export to plot.ly\"})});</script>"
      ],
      "text/vnd.plotly.v1+html": [
       "<div id=\"7b7e3458-82c3-40e1-b5e6-7791ba00a948\" style=\"height: 525px; width: 100%;\" class=\"plotly-graph-div\"></div><script type=\"text/javascript\">require([\"plotly\"], function(Plotly) { window.PLOTLYENV=window.PLOTLYENV || {};window.PLOTLYENV.BASE_URL=\"https://plot.ly\";Plotly.newPlot(\"7b7e3458-82c3-40e1-b5e6-7791ba00a948\", [{\"type\": \"bar\", \"x\": [\"1:00\", \"2:00\", \"3:00\", \"4:00\", \"5:00\", \"6:00\", \"7:00\", \"8:00\", \"9:00\", \"10:00\", \"11:00\", \"12:00\", \"13:00\", \"14:00\", \"15:00\", \"16:00\", \"17:00\", \"18:00\", \"19:00\", \"20:00\", \"21:00\", \"22:00\", \"23:00\"], \"y\": [3174, 2703, 2584, 2224, 2664, 4429, 6635, 7157, 6301, 6433, 7397, 8186, 9024, 9568, 10174, 10821, 10678, 10470, 9411, 7506, 7053, 6589, 5238, 4176, null], \"name\": \"Sober\", \"marker\": {\"color\": \"#106f7c\"}}, {\"type\": \"bar\", \"x\": [\"1:00\", \"2:00\", \"3:00\", \"4:00\", \"5:00\", \"6:00\", \"7:00\", \"8:00\", \"9:00\", \"10:00\", \"11:00\", \"12:00\", \"13:00\", \"14:00\", \"15:00\", \"16:00\", \"17:00\", \"18:00\", \"19:00\", \"20:00\", \"21:00\", \"22:00\", \"23:00\"], \"y\": [4569, 4677, 5610, 3528, 2229, 1669, 1474, 1039, 701, 603, 628, 780, 950, 1197, 1548, 2061, 2479, 2974, 3464, 3780, 4113, 4348, 4307, 4497, null], \"name\": \"Drunk\", \"textposition\": \"auto\", \"marker\": {\"color\": \"#c14b22\"}}], {\"barmode\": \"stack\", \"title\": \"Drunk Driver Involved Accidents Per Hour of Day\", \"yaxis\": {\"title\": \"Crashes\"}, \"xaxis\": {\"title\": \"Hour of Day\"}}, {\"showLink\": true, \"linkText\": \"Export to plot.ly\"})});</script>"
      ]
     },
     "metadata": {},
     "output_type": "display_data"
    }
   ],
   "source": [
    "drunk_data = [dict(Counter([  int(n) for n in df[df.DRUNK_INV == True  ].HOUR if n >= 0  ])).get(x) for x in range(0,25)]\n",
    "sober_data = [dict(Counter([  int(n) for n in df[df.DRUNK_INV == False].HOUR if n >= 0  ] )).get(x) for x in range(0,25)]\n",
    "\n",
    "drunk = go.Bar(\n",
    "    x=[str(x)+':00' for x in list(range(1,24))],\n",
    "    y= drunk_data,\n",
    "    name='Drunk',\n",
    "    textposition = 'auto',\n",
    "    marker=dict(color='#c14b22')\n",
    ")\n",
    "\n",
    "sober = go.Bar(\n",
    "    x=[str(x)+':00' for x in list(range(1,24))],\n",
    "    y= sober_data,\n",
    "    name='Sober',\n",
    "    marker=dict(color='#106f7c')\n",
    ")\n",
    "\n",
    "data = [sober, drunk]\n",
    "layout = go.Layout(\n",
    "    barmode='stack',\n",
    "    title='Drunk Driver Involved Accidents Per Hour of Day',\n",
    "    yaxis=dict(title='Crashes'),\n",
    "    xaxis=dict(title='Hour of Day')\n",
    ")\n",
    "\n",
    "fig = go.Figure(data=data, layout=layout)\n",
    "iplot(fig, filename='stacked-bar')"
   ]
  },
  {
   "cell_type": "code",
   "execution_count": 10,
   "metadata": {
    "collapsed": true,
    "scrolled": true
   },
   "outputs": [],
   "source": [
    "def time_set(x):\n",
    "    if x >= 7:\n",
    "        return x-7\n",
    "    else:\n",
    "        return x+17\n",
    "df.loc[:,'corrected_HOUR'] = df.loc[:,'HOUR'].apply(time_set)"
   ]
  },
  {
   "cell_type": "code",
   "execution_count": 11,
   "metadata": {
    "scrolled": false
   },
   "outputs": [
    {
     "data": {
      "application/vnd.plotly.v1+json": {
       "data": [
        {
         "marker": {
          "color": "#106f7c"
         },
         "name": "Sober",
         "type": "bar",
         "x": [
          1,
          2,
          3,
          4,
          5,
          6,
          7,
          8,
          9,
          10,
          11,
          12,
          13,
          14,
          15,
          16,
          17,
          18,
          19,
          20,
          21,
          22,
          23
         ],
         "y": [
          7157,
          6301,
          6433,
          7397,
          8186,
          9024,
          9568,
          10174,
          10821,
          10678,
          10470,
          9411,
          7506,
          7053,
          6589,
          5238,
          4176,
          3174,
          2703,
          2584,
          2224,
          2664,
          4429,
          6635,
          null
         ]
        },
        {
         "marker": {
          "color": "#c14b22"
         },
         "name": "Drunk",
         "textposition": "auto",
         "type": "bar",
         "x": [
          1,
          2,
          3,
          4,
          5,
          6,
          7,
          8,
          9,
          10,
          11,
          12,
          13,
          14,
          15,
          16,
          17,
          18,
          19,
          20,
          21,
          22,
          23
         ],
         "y": [
          1039,
          701,
          603,
          628,
          780,
          950,
          1197,
          1548,
          2061,
          2479,
          2974,
          3464,
          3780,
          4113,
          4348,
          4307,
          4497,
          4569,
          4677,
          5610,
          3528,
          2229,
          1669,
          1474,
          null
         ]
        }
       ],
       "layout": {
        "barmode": "stack",
        "title": "Drunk Driver Involved Accidents Per Hour (Since 7AM)",
        "xaxis": {
         "title": "Hours since 7AM"
        },
        "yaxis": {
         "title": "Crashes"
        }
       }
      },
      "text/html": [
       "<div id=\"0b55f65e-275d-420f-9d7e-c5e4b716db06\" style=\"height: 525px; width: 100%;\" class=\"plotly-graph-div\"></div><script type=\"text/javascript\">require([\"plotly\"], function(Plotly) { window.PLOTLYENV=window.PLOTLYENV || {};window.PLOTLYENV.BASE_URL=\"https://plot.ly\";Plotly.newPlot(\"0b55f65e-275d-420f-9d7e-c5e4b716db06\", [{\"type\": \"bar\", \"x\": [1, 2, 3, 4, 5, 6, 7, 8, 9, 10, 11, 12, 13, 14, 15, 16, 17, 18, 19, 20, 21, 22, 23], \"y\": [7157, 6301, 6433, 7397, 8186, 9024, 9568, 10174, 10821, 10678, 10470, 9411, 7506, 7053, 6589, 5238, 4176, 3174, 2703, 2584, 2224, 2664, 4429, 6635, null], \"name\": \"Sober\", \"marker\": {\"color\": \"#106f7c\"}}, {\"type\": \"bar\", \"x\": [1, 2, 3, 4, 5, 6, 7, 8, 9, 10, 11, 12, 13, 14, 15, 16, 17, 18, 19, 20, 21, 22, 23], \"y\": [1039, 701, 603, 628, 780, 950, 1197, 1548, 2061, 2479, 2974, 3464, 3780, 4113, 4348, 4307, 4497, 4569, 4677, 5610, 3528, 2229, 1669, 1474, null], \"name\": \"Drunk\", \"textposition\": \"auto\", \"marker\": {\"color\": \"#c14b22\"}}], {\"barmode\": \"stack\", \"title\": \"Drunk Driver Involved Accidents Per Hour (Since 7AM)\", \"yaxis\": {\"title\": \"Crashes\"}, \"xaxis\": {\"title\": \"Hours since 7AM\"}}, {\"showLink\": true, \"linkText\": \"Export to plot.ly\"})});</script>"
      ],
      "text/vnd.plotly.v1+html": [
       "<div id=\"0b55f65e-275d-420f-9d7e-c5e4b716db06\" style=\"height: 525px; width: 100%;\" class=\"plotly-graph-div\"></div><script type=\"text/javascript\">require([\"plotly\"], function(Plotly) { window.PLOTLYENV=window.PLOTLYENV || {};window.PLOTLYENV.BASE_URL=\"https://plot.ly\";Plotly.newPlot(\"0b55f65e-275d-420f-9d7e-c5e4b716db06\", [{\"type\": \"bar\", \"x\": [1, 2, 3, 4, 5, 6, 7, 8, 9, 10, 11, 12, 13, 14, 15, 16, 17, 18, 19, 20, 21, 22, 23], \"y\": [7157, 6301, 6433, 7397, 8186, 9024, 9568, 10174, 10821, 10678, 10470, 9411, 7506, 7053, 6589, 5238, 4176, 3174, 2703, 2584, 2224, 2664, 4429, 6635, null], \"name\": \"Sober\", \"marker\": {\"color\": \"#106f7c\"}}, {\"type\": \"bar\", \"x\": [1, 2, 3, 4, 5, 6, 7, 8, 9, 10, 11, 12, 13, 14, 15, 16, 17, 18, 19, 20, 21, 22, 23], \"y\": [1039, 701, 603, 628, 780, 950, 1197, 1548, 2061, 2479, 2974, 3464, 3780, 4113, 4348, 4307, 4497, 4569, 4677, 5610, 3528, 2229, 1669, 1474, null], \"name\": \"Drunk\", \"textposition\": \"auto\", \"marker\": {\"color\": \"#c14b22\"}}], {\"barmode\": \"stack\", \"title\": \"Drunk Driver Involved Accidents Per Hour (Since 7AM)\", \"yaxis\": {\"title\": \"Crashes\"}, \"xaxis\": {\"title\": \"Hours since 7AM\"}}, {\"showLink\": true, \"linkText\": \"Export to plot.ly\"})});</script>"
      ]
     },
     "metadata": {},
     "output_type": "display_data"
    }
   ],
   "source": [
    "drunk_data = [dict(Counter([  int(n) for n in df[df.DRUNK_INV == True].corrected_HOUR if n >= 0  ])).get(x) for x in range(0,25)]\n",
    "sober_data = [dict(Counter([  int(n) for n in df[df.DRUNK_INV == False].corrected_HOUR if n >= 0  ] )).get(x) for x in range(0,25)]\n",
    "\n",
    "drunk = go.Bar(\n",
    "    x=list(range(1,24)),\n",
    "    y= drunk_data,\n",
    "    name='Drunk',\n",
    "    textposition = 'auto',\n",
    "    marker=dict(color='#c14b22')\n",
    ")\n",
    "\n",
    "sober = go.Bar(\n",
    "    x=list(range(1,24)),\n",
    "    y= sober_data,\n",
    "    name='Sober',\n",
    "    marker=dict(color='#106f7c')\n",
    ")\n",
    "\n",
    "data = [sober, drunk]\n",
    "layout = go.Layout(\n",
    "    barmode='stack',\n",
    "    title='Drunk Driver Involved Accidents Per Hour (Since 7AM)',\n",
    "    yaxis=dict(title='Crashes'),\n",
    "    xaxis=dict(title='Hours since 7AM')\n",
    ")\n",
    "\n",
    "fig = go.Figure(data=data, layout=layout)\n",
    "iplot(fig, filename='stacked-bar')"
   ]
  },
  {
   "cell_type": "markdown",
   "metadata": {},
   "source": [
    "As we can see from the second chart, trying to understand the role time of day plays in drunk driving accidents makes more sense if we set the start of the day at 7AM."
   ]
  },
  {
   "cell_type": "markdown",
   "metadata": {},
   "source": [
    "The second factor to consider is day of the week. As one might suspect, more drunk driving accidents, and accidents overall, take happen on the weekends. This is visualized below: "
   ]
  },
  {
   "cell_type": "code",
   "execution_count": 12,
   "metadata": {
    "scrolled": true
   },
   "outputs": [
    {
     "data": {
      "application/vnd.plotly.v1+json": {
       "data": [
        {
         "marker": {
          "color": "#106f7c"
         },
         "name": "Sober",
         "type": "bar",
         "x": [
          "Mon",
          "Tues",
          "Weds",
          "Thurs",
          "Fri",
          "Sat",
          "Sun"
         ],
         "y": [
          19996,
          22670,
          22365,
          22751,
          23227,
          25969,
          24220
         ]
        },
        {
         "marker": {
          "color": "#c14b22"
         },
         "name": "Drunk",
         "textposition": "auto",
         "type": "bar",
         "x": [
          "Mon",
          "Tues",
          "Weds",
          "Thurs",
          "Fri",
          "Sat",
          "Sun"
         ],
         "y": [
          13640,
          6035,
          5745,
          6170,
          7067,
          9816,
          15321
         ]
        }
       ],
       "layout": {
        "barmode": "stack",
        "title": "Drunk Driver Involved Accidents Per Day of Week",
        "xaxis": {
         "title": "Day of Week"
        },
        "yaxis": {
         "title": "Crashes"
        }
       }
      },
      "text/html": [
       "<div id=\"027aeb1b-7a0c-4b6b-a0dd-02a5cf010ae7\" style=\"height: 525px; width: 100%;\" class=\"plotly-graph-div\"></div><script type=\"text/javascript\">require([\"plotly\"], function(Plotly) { window.PLOTLYENV=window.PLOTLYENV || {};window.PLOTLYENV.BASE_URL=\"https://plot.ly\";Plotly.newPlot(\"027aeb1b-7a0c-4b6b-a0dd-02a5cf010ae7\", [{\"type\": \"bar\", \"x\": [\"Mon\", \"Tues\", \"Weds\", \"Thurs\", \"Fri\", \"Sat\", \"Sun\"], \"y\": [19996, 22670, 22365, 22751, 23227, 25969, 24220], \"name\": \"Sober\", \"marker\": {\"color\": \"#106f7c\"}}, {\"type\": \"bar\", \"x\": [\"Mon\", \"Tues\", \"Weds\", \"Thurs\", \"Fri\", \"Sat\", \"Sun\"], \"y\": [13640, 6035, 5745, 6170, 7067, 9816, 15321], \"name\": \"Drunk\", \"textposition\": \"auto\", \"marker\": {\"color\": \"#c14b22\"}}], {\"barmode\": \"stack\", \"title\": \"Drunk Driver Involved Accidents Per Day of Week\", \"yaxis\": {\"title\": \"Crashes\"}, \"xaxis\": {\"title\": \"Day of Week\"}}, {\"showLink\": true, \"linkText\": \"Export to plot.ly\"})});</script>"
      ],
      "text/vnd.plotly.v1+html": [
       "<div id=\"027aeb1b-7a0c-4b6b-a0dd-02a5cf010ae7\" style=\"height: 525px; width: 100%;\" class=\"plotly-graph-div\"></div><script type=\"text/javascript\">require([\"plotly\"], function(Plotly) { window.PLOTLYENV=window.PLOTLYENV || {};window.PLOTLYENV.BASE_URL=\"https://plot.ly\";Plotly.newPlot(\"027aeb1b-7a0c-4b6b-a0dd-02a5cf010ae7\", [{\"type\": \"bar\", \"x\": [\"Mon\", \"Tues\", \"Weds\", \"Thurs\", \"Fri\", \"Sat\", \"Sun\"], \"y\": [19996, 22670, 22365, 22751, 23227, 25969, 24220], \"name\": \"Sober\", \"marker\": {\"color\": \"#106f7c\"}}, {\"type\": \"bar\", \"x\": [\"Mon\", \"Tues\", \"Weds\", \"Thurs\", \"Fri\", \"Sat\", \"Sun\"], \"y\": [13640, 6035, 5745, 6170, 7067, 9816, 15321], \"name\": \"Drunk\", \"textposition\": \"auto\", \"marker\": {\"color\": \"#c14b22\"}}], {\"barmode\": \"stack\", \"title\": \"Drunk Driver Involved Accidents Per Day of Week\", \"yaxis\": {\"title\": \"Crashes\"}, \"xaxis\": {\"title\": \"Day of Week\"}}, {\"showLink\": true, \"linkText\": \"Export to plot.ly\"})});</script>"
      ]
     },
     "metadata": {},
     "output_type": "display_data"
    }
   ],
   "source": [
    "drunk_data = [dict(Counter([  int(n) for n in df[df.DRUNK_INV == True  ].DAY_WEEK if n >= 0  ])).get(x) for x in range(1,8)]\n",
    "sober_data = [dict(Counter([  int(n) for n in df[df.DRUNK_INV == False].DAY_WEEK if n >= 0  ] )).get(x) for x in range(1,8)]\n",
    "\n",
    "days = ['Mon','Tues','Weds','Thurs','Fri','Sat','Sun']\n",
    "\n",
    "drunk = go.Bar(\n",
    "    x=days,\n",
    "    y= drunk_data,\n",
    "    name='Drunk',\n",
    "    textposition = 'auto',\n",
    "    marker=dict(color='#c14b22')\n",
    ")\n",
    "\n",
    "sober = go.Bar(\n",
    "    x=days,\n",
    "    y= sober_data,\n",
    "    name='Sober',\n",
    "    marker=dict(color='#106f7c')\n",
    ")\n",
    "\n",
    "data = [sober, drunk]\n",
    "layout = go.Layout(\n",
    "    barmode='stack',\n",
    "    title='Drunk Driver Involved Accidents Per Day of Week',\n",
    "    yaxis=dict(title='Crashes'),\n",
    "    xaxis=dict(title='Day of Week')\n",
    ")\n",
    "\n",
    "fig = go.Figure(data=data, layout=layout)\n",
    "iplot(fig, filename='stacked-bar')"
   ]
  },
  {
   "cell_type": "markdown",
   "metadata": {},
   "source": [
    "Like time, we impose an arbitary start point for the week at 12AM on Sunday. Given what we know about drinking on the weekends, it makes more sense to create a binary for True if the crash occured on a Friday, Saturday or Sunday, and False if it occured outside of that. This feature is called \"Weekend\"."
   ]
  },
  {
   "cell_type": "code",
   "execution_count": 13,
   "metadata": {
    "scrolled": false
   },
   "outputs": [],
   "source": [
    "def is_weekend(x):\n",
    "    if x in [1,6,7]: return True\n",
    "    else: return False\n",
    "    \n",
    "df.loc[:,'Weekend'] = df.loc[:,'DAY_WEEK'].apply(time_set)"
   ]
  },
  {
   "cell_type": "markdown",
   "metadata": {},
   "source": [
    "We can then verify the utility of the previous transformations by testing the correlation against DRUNK_INV, along with the original factors. As we can see below, the factors are significantly more correlated after transformation."
   ]
  },
  {
   "cell_type": "code",
   "execution_count": 14,
   "metadata": {},
   "outputs": [
    {
     "data": {
      "text/plain": [
       "HOUR             -0.028328\n",
       "corrected_HOUR    0.249686\n",
       "DAY_WEEK          0.020281\n",
       "Weekend          -0.116570\n",
       "Name: DRUNK_INV, dtype: float64"
      ]
     },
     "execution_count": 14,
     "metadata": {},
     "output_type": "execute_result"
    }
   ],
   "source": [
    "df.corr().loc[['HOUR','corrected_HOUR','DAY_WEEK','Weekend'],'DRUNK_INV']"
   ]
  },
  {
   "cell_type": "markdown",
   "metadata": {},
   "source": [
    "-----------------------------------------------------\n",
    "### Precrash Movement\n",
    "\n",
    "Precrash movement are a very interesting set of variables that essentially tell a story of a crash through categorical variables. \n",
    "* P_CRASH1:  identifies the attribute that best describes this vehicle's activity prior to the driver's realization of an impending critical event or just prior to impact if the driver took no action or had no time to attempt any evasive maneuvers\n",
    "* P_CRASH2: identifies the attribute that best describes the critical event which made this crash imminent.\n",
    "* P_CRASH3: identifies the attribute that best describes the movements/actions taken by this driver, within a critical crash envelope, in response to the “Critical Precrash Event.”\n",
    "* PCRASH4:  identifies the attribute that best describes the stability of this vehicle after the “Critical Precrash Event,” but before the impact\n",
    "* PCRASH5: identifies the attribute that best describes the location of this vehicle after the “Critical Precrash Event,” but before the impact.\n",
    "\n",
    "Using the Analysis Manual, we can understand the events from these numbers and steps. For example, the variabes at index [0] describes the following: (1) Driver going straight, (2) Go off the edge of the road on the right side, (3) No Avoidance Manuever, (4) Tracking, (5) Departed Roadway. As there is only one death associated with this crash, that corroborates."
   ]
  },
  {
   "cell_type": "code",
   "execution_count": 15,
   "metadata": {
    "scrolled": true
   },
   "outputs": [
    {
     "data": {
      "text/html": [
       "<div>\n",
       "<style>\n",
       "    .dataframe thead tr:only-child th {\n",
       "        text-align: right;\n",
       "    }\n",
       "\n",
       "    .dataframe thead th {\n",
       "        text-align: left;\n",
       "    }\n",
       "\n",
       "    .dataframe tbody tr th {\n",
       "        vertical-align: top;\n",
       "    }\n",
       "</style>\n",
       "<table border=\"1\" class=\"dataframe\">\n",
       "  <thead>\n",
       "    <tr style=\"text-align: right;\">\n",
       "      <th></th>\n",
       "      <th>P_CRASH1</th>\n",
       "      <th>P_CRASH2</th>\n",
       "      <th>P_CRASH3</th>\n",
       "      <th>PCRASH4</th>\n",
       "      <th>PCRASH5</th>\n",
       "      <th>FATALS</th>\n",
       "    </tr>\n",
       "  </thead>\n",
       "  <tbody>\n",
       "    <tr>\n",
       "      <th>0</th>\n",
       "      <td>1</td>\n",
       "      <td>13</td>\n",
       "      <td>1</td>\n",
       "      <td>1</td>\n",
       "      <td>4</td>\n",
       "      <td>1</td>\n",
       "    </tr>\n",
       "    <tr>\n",
       "      <th>1</th>\n",
       "      <td>1</td>\n",
       "      <td>12</td>\n",
       "      <td>1</td>\n",
       "      <td>1</td>\n",
       "      <td>4</td>\n",
       "      <td>1</td>\n",
       "    </tr>\n",
       "    <tr>\n",
       "      <th>2</th>\n",
       "      <td>1</td>\n",
       "      <td>64</td>\n",
       "      <td>3</td>\n",
       "      <td>2</td>\n",
       "      <td>1</td>\n",
       "      <td>1</td>\n",
       "    </tr>\n",
       "  </tbody>\n",
       "</table>\n",
       "</div>"
      ],
      "text/plain": [
       "   P_CRASH1  P_CRASH2  P_CRASH3  PCRASH4  PCRASH5  FATALS\n",
       "0         1        13         1        1        4       1\n",
       "1         1        12         1        1        4       1\n",
       "2         1        64         3        2        1       1"
      ]
     },
     "execution_count": 15,
     "metadata": {},
     "output_type": "execute_result"
    }
   ],
   "source": [
    "df[['P_CRASH1','P_CRASH2','P_CRASH3','PCRASH4','PCRASH5', 'FATALS']].head(3)"
   ]
  },
  {
   "cell_type": "markdown",
   "metadata": {},
   "source": [
    "For another example, we can look at an accident involving four fatalities (252 in index). In this case, (1) the driver was changing lanes (2) When they were traveling too fast for the road conditions (3) Did not make an avoidance manuever, and (4) skidded laterally in the counterclockwise direction (5) before returning to the roadway."
   ]
  },
  {
   "cell_type": "code",
   "execution_count": 16,
   "metadata": {
    "scrolled": true
   },
   "outputs": [
    {
     "data": {
      "text/html": [
       "<div>\n",
       "<style>\n",
       "    .dataframe thead tr:only-child th {\n",
       "        text-align: right;\n",
       "    }\n",
       "\n",
       "    .dataframe thead th {\n",
       "        text-align: left;\n",
       "    }\n",
       "\n",
       "    .dataframe tbody tr th {\n",
       "        vertical-align: top;\n",
       "    }\n",
       "</style>\n",
       "<table border=\"1\" class=\"dataframe\">\n",
       "  <thead>\n",
       "    <tr style=\"text-align: right;\">\n",
       "      <th></th>\n",
       "      <th>P_CRASH1</th>\n",
       "      <th>P_CRASH2</th>\n",
       "      <th>P_CRASH3</th>\n",
       "      <th>PCRASH4</th>\n",
       "      <th>PCRASH5</th>\n",
       "    </tr>\n",
       "  </thead>\n",
       "  <tbody>\n",
       "    <tr>\n",
       "      <th>252</th>\n",
       "      <td>15</td>\n",
       "      <td>6</td>\n",
       "      <td>1</td>\n",
       "      <td>4</td>\n",
       "      <td>6</td>\n",
       "    </tr>\n",
       "    <tr>\n",
       "      <th>253</th>\n",
       "      <td>1</td>\n",
       "      <td>64</td>\n",
       "      <td>1</td>\n",
       "      <td>1</td>\n",
       "      <td>1</td>\n",
       "    </tr>\n",
       "    <tr>\n",
       "      <th>415</th>\n",
       "      <td>1</td>\n",
       "      <td>52</td>\n",
       "      <td>6</td>\n",
       "      <td>1</td>\n",
       "      <td>6</td>\n",
       "    </tr>\n",
       "  </tbody>\n",
       "</table>\n",
       "</div>"
      ],
      "text/plain": [
       "     P_CRASH1  P_CRASH2  P_CRASH3  PCRASH4  PCRASH5\n",
       "252        15         6         1        4        6\n",
       "253         1        64         1        1        1\n",
       "415         1        52         6        1        6"
      ]
     },
     "execution_count": 16,
     "metadata": {},
     "output_type": "execute_result"
    }
   ],
   "source": [
    "df.query('FATALS == 4').filter(like='CRASH', axis = 1).head(3)"
   ]
  },
  {
   "cell_type": "markdown",
   "metadata": {},
   "source": [
    "It is a little difficult to make much sense of these variables and how they relate to the liklihood of one driver being drunk while they are still in categorical, non-ordinal form like this. In the machine learning portion I will use the One Hot Encoder method to turn these event sequences into sparse matrices that will be more machine-readable.\n",
    "\n",
    "What we can do at this time is take a look at what *initial* movements drunk drivers undertake at a rate higher than other drivers."
   ]
  },
  {
   "cell_type": "code",
   "execution_count": 17,
   "metadata": {},
   "outputs": [
    {
     "data": {
      "text/html": [
       "<div>\n",
       "<style>\n",
       "    .dataframe thead tr:only-child th {\n",
       "        text-align: right;\n",
       "    }\n",
       "\n",
       "    .dataframe thead th {\n",
       "        text-align: left;\n",
       "    }\n",
       "\n",
       "    .dataframe tbody tr th {\n",
       "        vertical-align: top;\n",
       "    }\n",
       "</style>\n",
       "<table border=\"1\" class=\"dataframe\">\n",
       "  <thead>\n",
       "    <tr style=\"text-align: right;\">\n",
       "      <th>DRUNK_INV</th>\n",
       "      <th>False</th>\n",
       "      <th>True</th>\n",
       "      <th>Percent_Drunk</th>\n",
       "      <th>Initial_Move</th>\n",
       "    </tr>\n",
       "    <tr>\n",
       "      <th>P_CRASH1</th>\n",
       "      <th></th>\n",
       "      <th></th>\n",
       "      <th></th>\n",
       "      <th></th>\n",
       "    </tr>\n",
       "  </thead>\n",
       "  <tbody>\n",
       "    <tr>\n",
       "      <th>14</th>\n",
       "      <td>25690</td>\n",
       "      <td>18403</td>\n",
       "      <td>41.736784</td>\n",
       "      <td>Negotiating a Curve</td>\n",
       "    </tr>\n",
       "    <tr>\n",
       "      <th>6</th>\n",
       "      <td>2694</td>\n",
       "      <td>1344</td>\n",
       "      <td>33.283804</td>\n",
       "      <td>Passing or Overtaking Another Vehicle</td>\n",
       "    </tr>\n",
       "    <tr>\n",
       "      <th>98</th>\n",
       "      <td>506</td>\n",
       "      <td>212</td>\n",
       "      <td>29.526462</td>\n",
       "      <td>Other</td>\n",
       "    </tr>\n",
       "    <tr>\n",
       "      <th>15</th>\n",
       "      <td>2559</td>\n",
       "      <td>957</td>\n",
       "      <td>27.218430</td>\n",
       "      <td>Changing Lanes</td>\n",
       "    </tr>\n",
       "    <tr>\n",
       "      <th>3</th>\n",
       "      <td>455</td>\n",
       "      <td>170</td>\n",
       "      <td>27.200000</td>\n",
       "      <td>Accelerating in Traffic Lane or Road</td>\n",
       "    </tr>\n",
       "    <tr>\n",
       "      <th>16</th>\n",
       "      <td>301</td>\n",
       "      <td>111</td>\n",
       "      <td>26.941748</td>\n",
       "      <td>Merging</td>\n",
       "    </tr>\n",
       "    <tr>\n",
       "      <th>7</th>\n",
       "      <td>183</td>\n",
       "      <td>67</td>\n",
       "      <td>26.800000</td>\n",
       "      <td>Disabled or Parked in Travel Lane</td>\n",
       "    </tr>\n",
       "    <tr>\n",
       "      <th>1</th>\n",
       "      <td>102829</td>\n",
       "      <td>36855</td>\n",
       "      <td>26.384554</td>\n",
       "      <td>Going Straight</td>\n",
       "    </tr>\n",
       "    <tr>\n",
       "      <th>99</th>\n",
       "      <td>1261</td>\n",
       "      <td>350</td>\n",
       "      <td>21.725636</td>\n",
       "      <td>Unknown</td>\n",
       "    </tr>\n",
       "    <tr>\n",
       "      <th>12</th>\n",
       "      <td>591</td>\n",
       "      <td>158</td>\n",
       "      <td>21.094793</td>\n",
       "      <td>Making a U-Turn</td>\n",
       "    </tr>\n",
       "    <tr>\n",
       "      <th>10</th>\n",
       "      <td>1388</td>\n",
       "      <td>353</td>\n",
       "      <td>20.275704</td>\n",
       "      <td>Turning Right</td>\n",
       "    </tr>\n",
       "    <tr>\n",
       "      <th>13</th>\n",
       "      <td>527</td>\n",
       "      <td>117</td>\n",
       "      <td>18.167702</td>\n",
       "      <td>Backing Up (Other Than For Parking Position)</td>\n",
       "    </tr>\n",
       "    <tr>\n",
       "      <th>5</th>\n",
       "      <td>5519</td>\n",
       "      <td>1220</td>\n",
       "      <td>18.103576</td>\n",
       "      <td>Stopped in Roadway</td>\n",
       "    </tr>\n",
       "    <tr>\n",
       "      <th>11</th>\n",
       "      <td>11322</td>\n",
       "      <td>2450</td>\n",
       "      <td>17.789718</td>\n",
       "      <td>Turning Left</td>\n",
       "    </tr>\n",
       "    <tr>\n",
       "      <th>4</th>\n",
       "      <td>1178</td>\n",
       "      <td>245</td>\n",
       "      <td>17.217147</td>\n",
       "      <td>Starting in Road</td>\n",
       "    </tr>\n",
       "    <tr>\n",
       "      <th>9</th>\n",
       "      <td>35</td>\n",
       "      <td>7</td>\n",
       "      <td>16.666667</td>\n",
       "      <td>Entering a Parking Position</td>\n",
       "    </tr>\n",
       "    <tr>\n",
       "      <th>8</th>\n",
       "      <td>125</td>\n",
       "      <td>25</td>\n",
       "      <td>16.666667</td>\n",
       "      <td>Leaving a Parking Position</td>\n",
       "    </tr>\n",
       "    <tr>\n",
       "      <th>2</th>\n",
       "      <td>2410</td>\n",
       "      <td>470</td>\n",
       "      <td>16.319444</td>\n",
       "      <td>Decelerating in Traffic Lane or Road</td>\n",
       "    </tr>\n",
       "    <tr>\n",
       "      <th>17</th>\n",
       "      <td>560</td>\n",
       "      <td>106</td>\n",
       "      <td>15.915916</td>\n",
       "      <td>Successful Avoidance Maneuver to a Previous C...</td>\n",
       "    </tr>\n",
       "    <tr>\n",
       "      <th>0</th>\n",
       "      <td>1065</td>\n",
       "      <td>174</td>\n",
       "      <td>14.043584</td>\n",
       "      <td>No Driver Present</td>\n",
       "    </tr>\n",
       "  </tbody>\n",
       "</table>\n",
       "</div>"
      ],
      "text/plain": [
       "DRUNK_INV   False   True  Percent_Drunk  \\\n",
       "P_CRASH1                                  \n",
       "14          25690  18403      41.736784   \n",
       "6            2694   1344      33.283804   \n",
       "98            506    212      29.526462   \n",
       "15           2559    957      27.218430   \n",
       "3             455    170      27.200000   \n",
       "16            301    111      26.941748   \n",
       "7             183     67      26.800000   \n",
       "1          102829  36855      26.384554   \n",
       "99           1261    350      21.725636   \n",
       "12            591    158      21.094793   \n",
       "10           1388    353      20.275704   \n",
       "13            527    117      18.167702   \n",
       "5            5519   1220      18.103576   \n",
       "11          11322   2450      17.789718   \n",
       "4            1178    245      17.217147   \n",
       "9              35      7      16.666667   \n",
       "8             125     25      16.666667   \n",
       "2            2410    470      16.319444   \n",
       "17            560    106      15.915916   \n",
       "0            1065    174      14.043584   \n",
       "\n",
       "DRUNK_INV                                       Initial_Move  \n",
       "P_CRASH1                                                      \n",
       "14                                       Negotiating a Curve  \n",
       "6                      Passing or Overtaking Another Vehicle  \n",
       "98                                                     Other  \n",
       "15                                            Changing Lanes  \n",
       "3                       Accelerating in Traffic Lane or Road  \n",
       "16                                                   Merging  \n",
       "7                          Disabled or Parked in Travel Lane  \n",
       "1                                             Going Straight  \n",
       "99                                                   Unknown  \n",
       "12                                           Making a U-Turn  \n",
       "10                                             Turning Right  \n",
       "13              Backing Up (Other Than For Parking Position)  \n",
       "5                                         Stopped in Roadway  \n",
       "11                                              Turning Left  \n",
       "4                                           Starting in Road  \n",
       "9                                Entering a Parking Position  \n",
       "8                                 Leaving a Parking Position  \n",
       "2                       Decelerating in Traffic Lane or Road  \n",
       "17          Successful Avoidance Maneuver to a Previous C...  \n",
       "0                                          No Driver Present  "
      ]
     },
     "execution_count": 17,
     "metadata": {},
     "output_type": "execute_result"
    }
   ],
   "source": [
    "pc1_df = pd.read_csv('PC1.csv')\n",
    "pc1_dict = dict(zip(pc1_df.iloc[:,0],pc1_df.iloc[:,1]))\n",
    "\n",
    "pc1_ptable = df.pivot_table(index='P_CRASH1', columns='DRUNK_INV', values='FATALS', aggfunc='count')\n",
    "pc1_ptable['Percent_Drunk'] = (pc1_ptable[True] / (pc1_ptable[True] + pc1_ptable[False]))*100\n",
    "pc1_ptable['Initial_Move'] = pc1_ptable.index\n",
    "pc1_ptable['Initial_Move'] = pc1_ptable['Initial_Move'].map(pc1_dict)\n",
    "pc1_ptable.sort_values('Percent_Drunk', inplace=True, ascending=False)\n",
    "pc1_ptable"
   ]
  },
  {
   "cell_type": "markdown",
   "metadata": {},
   "source": [
    "What we can observe here is that impaired drivers most often get into trouble around curves, passing, accelerating, or overtaking other drivers. This is obviously important information, but further insights will be generated with sci-kit learn."
   ]
  },
  {
   "cell_type": "markdown",
   "metadata": {},
   "source": [
    "### Other Factors\n",
    "#### Speed and Route Type\n",
    "\n",
    "While there are literally hundreds of different factors in the FARS dataset, I am going to use only a few of them beyond the ones already discussed.\n",
    "\n",
    "The first of those is speed, specifically the relation between the speed of the vehicle and the posted speed limit on that section of road. By subtracting the former from the latter, we can get a new variable with the speed the vehicle was traveling above (or below) the speed limit. \n",
    "\n",
    "This new variable is then visualized with a violin plot, where the split is between drunk-driver involved and non-drunk-driver involved accidents. We can see that while the difference is not striking, impaired drivers do tend to speed more than non-impaired drivers as the right side of the \"violins\" is thicker above zero on all types of roads represented on the x-axis."
   ]
  },
  {
   "cell_type": "code",
   "execution_count": 33,
   "metadata": {
    "scrolled": true
   },
   "outputs": [],
   "source": [
    "# Replacing Unknown value placeholders with NaN values\n",
    "df['TRAV_SP'] = df['TRAV_SP'].replace([999,998,0], np.nan).replace(997,150)\n",
    "df['VSPD_LIM'] = df['VSPD_LIM'].replace([99,98,0], np.nan)\n",
    "\n",
    "# Creating the OverSpeedLimit variable\n",
    "df.loc[:,'OverSpeedLimit'] = df.loc[:,'TRAV_SP'] - df.loc[:,'VSPD_LIM']\n",
    "\n",
    "# Mapping out the road types\n",
    "df['road_type'] = df['ROUTE'].map(\n",
    "            {1:'Interstate',\n",
    "             2:'U.S. Highway',\n",
    "             3:'State Highway',\n",
    "             4:'County Road',\n",
    "             5:'Local Street – Township',\n",
    "             6:'Local Street – Municipality',\n",
    "             7:'Local Street – Frontage Road',\n",
    "             8:'Other',\n",
    "             9:'Unknown'\n",
    "            }).astype('category')"
   ]
  },
  {
   "cell_type": "code",
   "execution_count": 34,
   "metadata": {},
   "outputs": [
    {
     "data": {
      "image/png": "[encoded data removed]",
      "text/plain": [
       "<matplotlib.figure.Figure at 0x110522668>"
      ]
     },
     "metadata": {},
     "output_type": "display_data"
    }
   ],
   "source": [
    "sns.set(style=\"darkgrid\", color_codes=True)\n",
    "\n",
    "fig, ax = plt.subplots(figsize=(20,10))\n",
    "\n",
    "g= sns.violinplot(x=\"road_type\", y=\"OverSpeedLimit\", hue=\"DRUNK_INV\", data=df, \n",
    "               palette={True: \"#c14b22\", False: \"#106f7c\"}, split=True, inner=\"quart\", ax=ax)\n",
    "g.set(xlim=(-.5, 5.5), xlabel='Fatalies', ylabel='Miles over Speed Limit')\n",
    "plt.show()"
   ]
  },
  {
   "cell_type": "markdown",
   "metadata": {},
   "source": [
    "Looking at every instance of the x axis, we can see the spread of drivers going above the speed limit (above 0 on the y-axis) is much thicker for drunk drivers than sober drivers. We can also see this in the correlation between 'OverSpeedLimit' and our target variable."
   ]
  },
  {
   "cell_type": "code",
   "execution_count": 20,
   "metadata": {},
   "outputs": [
    {
     "data": {
      "text/plain": [
       "0.21719050542620988"
      ]
     },
     "execution_count": 20,
     "metadata": {},
     "output_type": "execute_result"
    }
   ],
   "source": [
    "df.corr()['DRUNK_INV']['OverSpeedLimit']"
   ]
  },
  {
   "cell_type": "markdown",
   "metadata": {},
   "source": [
    "As for the ROUTE variable itself, it concerns the type of road the accident occured on. It is a categorical variable, but the data is ordinal. As the representative integers increase, the width and use of the road descreases (e.g. Interstates are 1, Local Roads are 8). With this in mind, there is not much correlation between the route type and the frequency of drunk driving accidents."
   ]
  },
  {
   "cell_type": "code",
   "execution_count": 24,
   "metadata": {
    "scrolled": true
   },
   "outputs": [
    {
     "data": {
      "text/plain": [
       "ROUTE    0.056413\n",
       "Name: DRUNK_INV, dtype: float64"
      ]
     },
     "execution_count": 24,
     "metadata": {},
     "output_type": "execute_result"
    }
   ],
   "source": [
    "df.corr()['DRUNK_INV'][['ROUTE']]"
   ]
  },
  {
   "cell_type": "code",
   "execution_count": 38,
   "metadata": {},
   "outputs": [
    {
     "data": {
      "text/html": [
       "<div>\n",
       "<style>\n",
       "    .dataframe thead tr:only-child th {\n",
       "        text-align: right;\n",
       "    }\n",
       "\n",
       "    .dataframe thead th {\n",
       "        text-align: left;\n",
       "    }\n",
       "\n",
       "    .dataframe tbody tr th {\n",
       "        vertical-align: top;\n",
       "    }\n",
       "</style>\n",
       "<table border=\"1\" class=\"dataframe\">\n",
       "  <thead>\n",
       "    <tr style=\"text-align: right;\">\n",
       "      <th>DRUNK_INV</th>\n",
       "      <th>False</th>\n",
       "      <th>True</th>\n",
       "      <th>Percent_Drunk</th>\n",
       "    </tr>\n",
       "    <tr>\n",
       "      <th>road_type</th>\n",
       "      <th></th>\n",
       "      <th></th>\n",
       "      <th></th>\n",
       "    </tr>\n",
       "  </thead>\n",
       "  <tbody>\n",
       "    <tr>\n",
       "      <th>U.S. Highway</th>\n",
       "      <td>29979</td>\n",
       "      <td>9210</td>\n",
       "      <td>23.501493</td>\n",
       "    </tr>\n",
       "    <tr>\n",
       "      <th>Interstate</th>\n",
       "      <td>21348</td>\n",
       "      <td>7092</td>\n",
       "      <td>24.936709</td>\n",
       "    </tr>\n",
       "    <tr>\n",
       "      <th>State Highway</th>\n",
       "      <td>49954</td>\n",
       "      <td>18264</td>\n",
       "      <td>26.772992</td>\n",
       "    </tr>\n",
       "    <tr>\n",
       "      <th>Local Street – Municipality</th>\n",
       "      <td>25644</td>\n",
       "      <td>10499</td>\n",
       "      <td>29.048502</td>\n",
       "    </tr>\n",
       "    <tr>\n",
       "      <th>Unknown</th>\n",
       "      <td>514</td>\n",
       "      <td>232</td>\n",
       "      <td>31.099196</td>\n",
       "    </tr>\n",
       "    <tr>\n",
       "      <th>Other</th>\n",
       "      <td>5441</td>\n",
       "      <td>2561</td>\n",
       "      <td>32.004499</td>\n",
       "    </tr>\n",
       "    <tr>\n",
       "      <th>Local Street – Frontage Road</th>\n",
       "      <td>919</td>\n",
       "      <td>436</td>\n",
       "      <td>32.177122</td>\n",
       "    </tr>\n",
       "    <tr>\n",
       "      <th>Local Street – Township</th>\n",
       "      <td>6177</td>\n",
       "      <td>3349</td>\n",
       "      <td>35.156414</td>\n",
       "    </tr>\n",
       "    <tr>\n",
       "      <th>County Road</th>\n",
       "      <td>21222</td>\n",
       "      <td>12151</td>\n",
       "      <td>36.409672</td>\n",
       "    </tr>\n",
       "  </tbody>\n",
       "</table>\n",
       "</div>"
      ],
      "text/plain": [
       "DRUNK_INV                     False   True  Percent_Drunk\n",
       "road_type                                                \n",
       "U.S. Highway                  29979   9210      23.501493\n",
       "Interstate                    21348   7092      24.936709\n",
       "State Highway                 49954  18264      26.772992\n",
       "Local Street – Municipality   25644  10499      29.048502\n",
       "Unknown                         514    232      31.099196\n",
       "Other                          5441   2561      32.004499\n",
       "Local Street – Frontage Road    919    436      32.177122\n",
       "Local Street – Township        6177   3349      35.156414\n",
       "County Road                   21222  12151      36.409672"
      ]
     },
     "execution_count": 38,
     "metadata": {},
     "output_type": "execute_result"
    }
   ],
   "source": [
    "route_table = df.pivot_table(index='road_type', columns='DRUNK_INV', values='FATALS', aggfunc='count')\n",
    "route_table['Percent_Drunk'] = (route_table[True] / (route_table[True] + route_table[False]))*100\n",
    "route_table.sort_values('Percent_Drunk', inplace=True)\n",
    "route_table"
   ]
  },
  {
   "cell_type": "markdown",
   "metadata": {},
   "source": [
    "The percentage of accidents involving alcohol ranges from 23% for US Highways to 36% for County Road. This can partially be explained by the context of the data - namely that while interstates have more traffic, they are also wider and have more safety features, creating less hazards for drunk drivers. County roads are narrower and less safe by design, but have less traffic. \n",
    "\n",
    "It is hard to say whether this variable contains useful information, but it is probably worth expanding it into a matrix using the OHE method in the machine learning section."
   ]
  },
  {
   "cell_type": "markdown",
   "metadata": {},
   "source": [
    "## Conclusions\n",
    "\n",
    "The FARS dataset is massive, both in length and width. Doing a full-level EDA of all the factors available for analysis would take weeks beyond the scope of this project. By selecting just a few factors, we have lready pulled some powerful insights from the data, and we can say the following about the ocurrence of drunk driving accidents in the United States:\n",
    "\n",
    "* more likely in the late evening and early morning hours.\n",
    "* more likely on the weekends.\n",
    "* more likely when the impaired driver is negotiating a curve or attempting maneuvers with other vehicles (merging, passing etc).\n",
    "* more likely when the driver is speeding above the posted speed limit.\n",
    "* possibly more likely on county roads.\n",
    "\n",
    "I am very excited to see what scikit-learn can do with this data in the next step!"
   ]
  },
  {
   "cell_type": "code",
   "execution_count": null,
   "metadata": {
    "collapsed": true
   },
   "outputs": [],
   "source": []
  }
 ],
 "metadata": {
  "kernelspec": {
   "display_name": "Python 3",
   "language": "python",
   "name": "python3"
  },
  "language_info": {
   "codemirror_mode": {
    "name": "ipython",
    "version": 3
   },
   "file_extension": ".py",
   "mimetype": "text/x-python",
   "name": "python",
   "nbconvert_exporter": "python",
   "pygments_lexer": "ipython3",
   "version": "3.6.3"
  }
 },
 "nbformat": 4,
 "nbformat_minor": 2
}
