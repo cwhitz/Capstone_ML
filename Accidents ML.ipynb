{
 "cells": [
  {
   "cell_type": "markdown",
   "metadata": {},
   "source": [
    "# Prediction of Involvement of Drunk Drivers in Fatal Highway Crashes\n",
    "## Machine Learning\n",
    "\n",
    "### Chester Hitz | Springboard Data Science Career Track | Capstone II\n",
    "\n",
    "Following a pivot from my original capstone idea, I am trying to identify the involvement of at least one drunk driver in a fatal car crash, using the extensive dataset from the Fatality Analysis Reporting System. This is a massive dataset, but I am trying to predict based on a limited number of variables, namely:\n",
    "\n",
    "* Timing: Time of day and day of week.\n",
    "* Crash events: Contained within the five PCRASH variables is a sequence of 5 steps that happen in every crash, with each step describing a different event. More description in section.\n",
    "* Various other factors: Involvement of speeding and road type.\n",
    "\n",
    "Various insights about the data can be read about in the [EDA portion](https://github.com/cwhitz/Springboard-Capstone-1/blob/master/Accidents%20EDA.ipynb) of this capstone. The aim of this portion is to select, tune, and test the best machine learning algorithm to attain the most accurate predictions of the target variable, DRUNK_INV, which indicates the involvement of at least one drunk driver.\n",
    "\n",
    "To start, I import the standard libraries plus sklearn librries for preprocessing and metrics."
   ]
  },
  {
   "cell_type": "code",
   "execution_count": 1,
   "metadata": {
    "scrolled": false
   },
   "outputs": [
    {
     "name": "stdout",
     "output_type": "stream",
     "text": [
      "(224992, 22)\n",
      "<class 'pandas.core.frame.DataFrame'>\n",
      "RangeIndex: 224992 entries, 0 to 224991\n",
      "Data columns (total 22 columns):\n",
      "Unnamed: 0        224992 non-null int64\n",
      "index             224992 non-null int64\n",
      "DRUNK_INV         224992 non-null bool\n",
      "HOUR              224992 non-null int64\n",
      "DAY_WEEK          224992 non-null int64\n",
      "LGT_COND          224992 non-null int64\n",
      "CF1               224992 non-null int64\n",
      "CF2               224992 non-null int64\n",
      "CF3               224992 non-null int64\n",
      "P_CRASH1          224992 non-null int64\n",
      "P_CRASH2          224992 non-null int64\n",
      "P_CRASH3          224992 non-null int64\n",
      "PCRASH4           224992 non-null int64\n",
      "PCRASH5           224992 non-null int64\n",
      "VSPD_LIM          215483 non-null float64\n",
      "TRAV_SP           83159 non-null float64\n",
      "FATALS            224992 non-null int64\n",
      "ROUTE             224992 non-null int64\n",
      "corrected_HOUR    224992 non-null int64\n",
      "Weekend           224992 non-null int64\n",
      "OverSpeedLimit    81918 non-null float64\n",
      "road_type         224992 non-null object\n",
      "dtypes: bool(1), float64(3), int64(17), object(1)\n",
      "memory usage: 36.3+ MB\n",
      "None\n"
     ]
    }
   ],
   "source": [
    "import numpy as np\n",
    "import pandas as pd\n",
    "import matplotlib.pyplot as plt\n",
    "import seaborn as sns\n",
    "sns.set()\n",
    "%matplotlib inline\n",
    "\n",
    "# general sklearn tools for preprocessing and metrics\n",
    "from sklearn.preprocessing import OneHotEncoder, LabelEncoder\n",
    "from sklearn.model_selection import train_test_split\n",
    "from sklearn.metrics import accuracy_score, confusion_matrix\n",
    "\n",
    "# data import\n",
    "df = pd.read_csv('Accidents_ML.csv')\n",
    "\n",
    "# validate data load\n",
    "print(df.shape)\n",
    "print(df.info())"
   ]
  },
  {
   "cell_type": "markdown",
   "metadata": {},
   "source": [
    "## Data Preprocessing\n",
    "The first task is to make the many categorical variables in the dataset more expressive and machine-readable. Currently the variables are encoded with integers, each representing a different category of something. However, those integers are merely symbolic and have no linear nor ordinal relationship to one and other. Therefore, it is easier for sklearn's models to read the categories when the categories are fleshed out to new columns with binary values, showing whether that particular record is in a certain category (represented by a 1) or not (0). This ends up creating *n* columns, where *n* is the total number of unique categories in the column. \n",
    "\n",
    "Below, nine categorical columns are transformed into binary representation via the use of sklearn's OneHotEncoder()."
   ]
  },
  {
   "cell_type": "code",
   "execution_count": 3,
   "metadata": {},
   "outputs": [
    {
     "data": {
      "text/plain": [
       "'n columns added to dataframe: 167'"
      ]
     },
     "execution_count": 3,
     "metadata": {},
     "output_type": "execute_result"
    }
   ],
   "source": [
    "cat_features = ['CF1','CF2','CF3','P_CRASH1','P_CRASH2','P_CRASH3','PCRASH4','PCRASH5', 'ROUTE']\n",
    "df.drop(['road_type','Unnamed: 0','index','HOUR'], axis=1, inplace=True)\n",
    "\n",
    "n_cols=df.shape[1]\n",
    "\n",
    "enc = OneHotEncoder(sparse=False)\n",
    "\n",
    "# this code block loops through the specified categorical features in the dataframe and performs\n",
    "# an OHE transformation on them, then concats them back to the dataframe\n",
    "for feature in cat_features:\n",
    "    mtx = df[feature].values.reshape(len(df), 1)\n",
    "    mtx = enc.fit_transform(mtx)\n",
    "    \n",
    "    c_names= [feature+'_'+str(enc.active_features_[x]) for x in range(mtx.shape[1])]\n",
    "    mtx_df = pd.DataFrame(mtx, index=df.index, columns=c_names)\n",
    "    df = df.drop(feature, axis=1)\n",
    "    df = pd.concat([df, mtx_df], axis=1)\n",
    "    \n",
    "'n columns added to dataframe: ' + str(df.shape[1] - n_cols)"
   ]
  },
  {
   "cell_type": "markdown",
   "metadata": {},
   "source": [
    "Note that the column names have the integer keys they represent preserved via code on line 14. \n",
    "\n",
    "The next step is to try some different models on the data, but not before some standard preprocessing is performed."
   ]
  },
  {
   "cell_type": "code",
   "execution_count": 4,
   "metadata": {},
   "outputs": [],
   "source": [
    "# split off the target array from the data, then split train/test data at customary 80-20 ratio\n",
    "y = df['DRUNK_INV']\n",
    "X = df.drop(['DRUNK_INV','VSPD_LIM','TRAV_SP','OverSpeedLimit'], axis=1)\n",
    "\n",
    "X_train, X_test, y_train, y_test = train_test_split(X, y, random_state=0, train_size=.8, test_size=.2)"
   ]
  },
  {
   "cell_type": "markdown",
   "metadata": {},
   "source": [
    "## Decision Tree and Random Forest Classifiers\n",
    "\n",
    "The first models to try are the decision tree classifiers. A function is defined below to test models, and then a simple DecisionTreeClassifier is passed into it."
   ]
  },
  {
   "cell_type": "code",
   "execution_count": null,
   "metadata": {},
   "outputs": [],
   "source": [
    "from sklearn.tree import DecisionTreeClassifier\n",
    "from sklearn.ensemble import RandomForestClassifier\n",
    "\n",
    "def dt_pipeline(model, model_return=False):\n",
    "    m = model.fit(X_train, y_train)\n",
    "    predictions = m.predict(X_test)\n",
    "    train_accuracy = m.score(X_train, y_train)\n",
    "    test_accuracy = m.score(X_test, y_test)\n",
    "    if model_return:\n",
    "        return m\n",
    "    print(\"Accuracy | Training : \", train_accuracy)\n",
    "    print(\"Accuracy | Test     : \", test_accuracy)\n",
    "\n",
    "dt_pipeline(DecisionTreeClassifier(random_state=42))"
   ]
  },
  {
   "cell_type": "markdown",
   "metadata": {},
   "source": [
    "The decision tree seems to be overfitting to the training data, resulting in lower test accuracy relative to training accuracy. Using an ensemble method, RandomForestClassifier, might have a better accuracy rate than just building a single decision tree, as it builds an ensemble of trees based off various bootstrap subsets of the data, then finds the average between them."
   ]
  },
  {
   "cell_type": "code",
   "execution_count": 33,
   "metadata": {},
   "outputs": [],
   "source": [
    "rfc = dt_pipeline(RandomForestClassifier(random_state=42), model_return=True)"
   ]
  },
  {
   "cell_type": "markdown",
   "metadata": {},
   "source": [
    "One appreciable aspect of the decision tree classifier is how stunningly interpretable it is in context of this case, especially when it comes to the crash factors and pre-crash movements. As covered in the EDA section of my capstone, the pre-crash movement variables describe a story of a crash through categorical variables, where each of the five variables (P_CRASH1 - P_CRASH5) is a different step that led to the crash. Therefore each brach of the decision tree through the five precrash steps represents a complete set of actions action. For example, the decision tree learns that values like 1 in P_CRASH3, indicating that no avoidance maneuver was taken by the driver to avoid an accident, mean the driver was more likely to be impaired. \n",
    "\n",
    "Examining the feature importances can provide insight into what features are most important in the decision tree ensemble. In this case, I reverse the processing done in my preprocessing step with OneHotEncoder to aggregate the feature importances of each categorical variable.\n"
   ]
  },
  {
   "cell_type": "code",
   "execution_count": 28,
   "metadata": {},
   "outputs": [
    {
     "data": {
      "image/png": "[encoded data removed]",
      "text/plain": [
       "<matplotlib.figure.Figure at 0x118a21668>"
      ]
     },
     "metadata": {},
     "output_type": "display_data"
    }
   ],
   "source": [
    "# create series of top features, index set to those features\n",
    "rfc_top_features = pd.Series(rfc.feature_importances_, index=X_train.columns).sort_values()\n",
    "\n",
    "# create seperate series to aggregate\n",
    "rfc_top_features_agg = rfc_top_features.copy()\n",
    "\n",
    "# aggregate categorical features based on common column titles\n",
    "for cat in cat_features:\n",
    "    all_sub_features = rfc_top_features[[x for x in list(rfc_top_features.index) if cat in x]]\n",
    "    rfc_top_features_agg[cat] = np.sum(all_sub_features)\n",
    "    # drop subcategories\n",
    "    rfc_top_features_agg.drop(all_sub_features.index, axis=0, inplace=True)\n",
    "\n",
    "# sort values\n",
    "rfc_top_features_agg.sort_values(inplace=True)\n",
    "\n",
    "# plot values\n",
    "n_features = rfc_top_features_agg.shape[0]\n",
    "plt.barh(range(n_features), rfc_top_features_agg.values, align='center')\n",
    "plt.yticks(np.arange(n_features), rfc_top_features_agg.index)\n",
    "plt.xlabel(\"Feature Importance\")\n",
    "plt.ylabel(\"Feature\")\n",
    "plt.title(\"Aggregated Feature Importances in RFC\")\n",
    "plt.ylim(-1, n_features)\n",
    "plt.show()\n",
    "#plot_feature_importances(rfc)"
   ]
  },
  {
   "cell_type": "markdown",
   "metadata": {},
   "source": [
    "The feature importances in this case are not too different from the analysis of coefficients in a linear model. As expected from our EDA, corrected_HOUR (which refers to the number of hours since 7AM) has the most decision power in the decision trees, but no one feature has the majority. \n",
    "\n",
    "Beyond that, aggregating the values for each subcategory of the categorical events lets us see how important each of those categories are as a whole, information that might otherwise be lost. We can see how Pre-Crash Event 2 - which identifies the attribute that best describes the critical event which made the crash imminent - is the most important of the categorical variables. We can use the non-aggregated series to see specifically which events are the most important. Let's look at the top ten subcategories within P_CRASH2 and information from the analytical manual."
   ]
  },
  {
   "cell_type": "code",
   "execution_count": 29,
   "metadata": {},
   "outputs": [
    {
     "data": {
      "text/plain": [
       "P_CRASH2_80    0.029351\n",
       "P_CRASH2_54    0.009691\n",
       "P_CRASH2_13    0.008763\n",
       "P_CRASH2_12    0.008426\n",
       "P_CRASH2_62    0.008190\n",
       "P_CRASH2_6     0.007975\n",
       "P_CRASH2_10    0.006884\n",
       "P_CRASH2_53    0.005444\n",
       "P_CRASH2_17    0.005227\n",
       "P_CRASH2_98    0.005140\n",
       "dtype: float64"
      ]
     },
     "execution_count": 29,
     "metadata": {},
     "output_type": "execute_result"
    }
   ],
   "source": [
    "rfc_top_features[[x for x in rfc_top_features.index if 'P_CRASH2' in x]].sort_values(ascending=False)[:10]"
   ]
  },
  {
   "cell_type": "markdown",
   "metadata": {},
   "source": [
    "The top five of these represent the following (keep in mind this can refer to any car in the crash, not just the inebriated driver):\n",
    "* 80: Pedestrian in roadway\n",
    "* 13: Off the edge of the road on the right side.\n",
    "* 54: Vehicle traveling in wrong direction in lane.\n",
    "* 62: Other motor vehicle encroaching over left lane line.\n",
    "* 6: Traveling too fast for conditions.\n",
    "\n",
    "These all seem like actions that a drunk driver would either do or have trouble dealing with. It makes sense then that they are the some of the most important decision points in the forest classifier, and serves to highlight the interpretability of the decision tree in this case.\n",
    "\n",
    "### Optimization\n",
    "\n",
    "As interesting as all that is, it is a diversion from the main concern - prediction of involvement of drunk drivers. Let's take a look at the confusion matric produced by our RFC model."
   ]
  },
  {
   "cell_type": "code",
   "execution_count": 30,
   "metadata": {},
   "outputs": [
    {
     "data": {
      "text/plain": [
       "Text(92.68,0.5,'True Value')"
      ]
     },
     "execution_count": 30,
     "metadata": {},
     "output_type": "execute_result"
    },
    {
     "data": {
      "image/png": "[encoded data removed]",
      "text/plain": [
       "<matplotlib.figure.Figure at 0x1177aefd0>"
      ]
     },
     "metadata": {},
     "output_type": "display_data"
    }
   ],
   "source": [
    "c_mtx = confusion_matrix(y_test, rfc_predictions)\n",
    "sns.heatmap(c_mtx, square=True, annot=True, cbar=False, fmt='g', cmap='Blues')\n",
    "plt.title('Confusion Matrix for Random Forest Classifier')\n",
    "plt.xlabel('Predicted Value')\n",
    "plt.ylabel('True Value')\n"
   ]
  },
  {
   "cell_type": "markdown",
   "metadata": {},
   "source": [
    "The Random Forest Classifier is inaccurately overpredicting drunk drivers more often than sober ones. "
   ]
  },
  {
   "cell_type": "code",
   "execution_count": 31,
   "metadata": {},
   "outputs": [
    {
     "name": "stdout",
     "output_type": "stream",
     "text": [
      "Accuracy | Training :  0.789402921225\n",
      "Accuracy | Test     :  0.787861952488\n"
     ]
    }
   ],
   "source": [
    "from sklearn.ensemble import GradientBoostingClassifier\n",
    "\n",
    "dt_pipeline(GradientBoostingClassifier(random_state=42))"
   ]
  },
  {
   "cell_type": "raw",
   "metadata": {},
   "source": [
    "# from sklearn.grid_search import GridSearchCV\n",
    "\n",
    "param_grid = {'learning_rate':[.01, .1, 1],\n",
    "             'max_depth':[1,3,5]}\n",
    "\n",
    "grid= GridSearchCV(GradientBoostingClassifier(random_state=42), param_grid, cv=5)\n",
    "\n",
    "grid.fit(X,y)"
   ]
  },
  {
   "cell_type": "code",
   "execution_count": null,
   "metadata": {
    "collapsed": true
   },
   "outputs": [],
   "source": [
    "grid.grid_scores_"
   ]
  },
  {
   "cell_type": "markdown",
   "metadata": {},
   "source": [
    "## Logistic Regression"
   ]
  },
  {
   "cell_type": "code",
   "execution_count": 11,
   "metadata": {},
   "outputs": [
    {
     "data": {
      "text/plain": [
       "0.75790573123847194"
      ]
     },
     "execution_count": 11,
     "metadata": {},
     "output_type": "execute_result"
    }
   ],
   "source": [
    "from sklearn.linear_model import LogisticRegression\n",
    "\n",
    "lgr = LogisticRegression().fit(X_train, y_train)\n",
    "lgr_predictions = lgr.predict(X_test)\n",
    "lgr_accuracy = accuracy_score(y_test, lgr_predictions)\n",
    "\n",
    "lgr_accuracy"
   ]
  },
  {
   "cell_type": "code",
   "execution_count": null,
   "metadata": {},
   "outputs": [],
   "source": []
  },
  {
   "cell_type": "code",
   "execution_count": null,
   "metadata": {
    "collapsed": true
   },
   "outputs": [],
   "source": []
  }
 ],
 "metadata": {
  "kernelspec": {
   "display_name": "Python 3",
   "language": "python",
   "name": "python3"
  },
  "language_info": {
   "codemirror_mode": {
    "name": "ipython",
    "version": 3
   },
   "file_extension": ".py",
   "mimetype": "text/x-python",
   "name": "python",
   "nbconvert_exporter": "python",
   "pygments_lexer": "ipython3",
   "version": "3.6.3"
  }
 },
 "nbformat": 4,
 "nbformat_minor": 2
}
