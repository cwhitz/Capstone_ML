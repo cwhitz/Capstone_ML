{
 "cells": [
  {
   "cell_type": "markdown",
   "metadata": {},
   "source": [
    "# Broadband Growth Across the US\n",
    "## Machine Learning\n",
    "### Chester Hitz | Springboard Data Science Career Track | Capstone I\n",
    "\n",
    "The goal of this final component of my capstone is to apply what I have discovered thus far in my project and apply it to build a predictive model using tools from sci-kit learn. I will build and evaluate several models, then try to establish a deeper understanding of my model's strengths and weaknesses as well as the real-world applications of my results.\n",
    "\n",
    "### Work thus far\n",
    "I started this project with my data wrangling component, where I assembled a DataFrame consisting of 13k rows, each one representing a county in a particular year across a four year period (2011-2015) with a target variable. The target variable is a number corresponding to a category for \"residential fixed Internet access connections per 1,000 households by county for both service over 200 kbps in at least one direction and service at least 10 Mbps down / 1 Mbps up.\". This is the BSC, or broadband subscription category. The categories are listed as follows, with x representing connections per 1,000 households:\n",
    "* 0: Zero \n",
    "* 1: Zero < x <= 200 \n",
    "* 2: 200 < x <= 400 \n",
    "* 3: 400 < x <= 600 \n",
    "* 4: 600 < x <= 800 \n",
    "* 5: 800 < x\n",
    "\n",
    "I then populated this DataFrame further with various features pulled from the census API and other sources to complete my DataWrangling component. In my Data Storytelling and Inferential Statistics modules, I examined the data and found 1) that BSC did move upward over the study period and 2) that economic factors were the most closely correlated to BSC.\n",
    "\n",
    "In this final module, I will build on those previous units to construct a predictive model. Though I am technically predicting for a category, the category is essentially bins for numerical data, so regression models will be used in this case."
   ]
  },
  {
   "cell_type": "markdown",
   "metadata": {},
   "source": [
    "### Preprocessing"
   ]
  },
  {
   "cell_type": "code",
   "execution_count": 1,
   "metadata": {
    "collapsed": true
   },
   "outputs": [],
   "source": [
    "# begin by importing all relevant libraries & previous data\n",
    "# standard data analysis libraries...\n",
    "import numpy as np\n",
    "import pandas as pd\n",
    "import scipy.stats as stats\n",
    "import matplotlib.pyplot as plt\n",
    "import seaborn as sns\n",
    "\n",
    "# ... and various scikit-learn functions\n",
    "from statsmodels.formula.api import ols\n",
    "from sklearn.metrics import mean_squared_error\n",
    "from sklearn.model_selection import train_test_split, cross_val_score, GridSearchCV\n",
    "from sklearn.linear_model import LinearRegression, Ridge\n",
    "from sklearn.preprocessing import Imputer, normalize\n",
    "from sklearn.feature_selection import RFE\n",
    "from sklearn.ensemble import RandomForestRegressor\n",
    "\n",
    "\n",
    "\n",
    "# import relevant data\n",
    "broadband = pd.read_csv('broadband.csv', dtype={'county_fips':str})"
   ]
  },
  {
   "cell_type": "markdown",
   "metadata": {},
   "source": [
    "My first step here is preprocessing my data for sci-kit learn's algorithms: Dropping unnecessary categorical features and the target variable and imputing missing values"
   ]
  },
  {
   "cell_type": "code",
   "execution_count": 2,
   "metadata": {
    "collapsed": true
   },
   "outputs": [],
   "source": [
    "# create an imputer object (applied throughout project)\n",
    "imp = Imputer(missing_values='NaN', strategy='median', axis=1)\n",
    "\n",
    "# remove unnecessary features\n",
    "lr_bb = broadband.drop(['Unnamed: 0', 'state', 'statename'], axis=1)"
   ]
  },
  {
   "cell_type": "markdown",
   "metadata": {},
   "source": [
    "Second step is designing a function that will allow me to quickly preprocess my data and run it through a selected model to produce metrics for comparison with other models."
   ]
  },
  {
   "cell_type": "code",
   "execution_count": 3,
   "metadata": {
    "collapsed": true
   },
   "outputs": [],
   "source": [
    "# build a function to train and test different DataFrames\n",
    "\n",
    "# coefficient printer function from: http://blog.datadive.net/selecting-good-features-part-ii-linear-models-and-regularization/\n",
    "def pretty_print_linear(coefs, names = None, sort = False):\n",
    "    if names == None:\n",
    "        names = [\"X%s\" % x for x in range(len(coefs))]\n",
    "    lst = zip(coefs, names)\n",
    "    if sort:\n",
    "        lst = sorted(lst,  key = lambda x:-np.abs(x[0]))\n",
    "    return \"\\n + \".join(\"%s * %s\" % (round(coef, 3), name)\n",
    "                                   for coef, name in lst)\n",
    "\n",
    "# generalized preprocessing function drops target variable, imputes missing values, reconstitutes the dataframe\n",
    "# and partitions it for training purposes\n",
    "def preprocess(df, return_features_df=False):\n",
    "    df_features_wNaN = df.drop('BSC',axis = 1)\n",
    "    if return_features_df: global df_features\n",
    "    df_features = pd.DataFrame(imp.fit_transform(df_features_wNaN))\n",
    "    df_features.columns = df_features_wNaN.columns\n",
    "    return train_test_split(df_features, df.BSC, test_size = .2, random_state=24)\n",
    "\n",
    "# and a pipeline for regression models\n",
    "def Pipeline(df, model, coef_print=True, return_df=False):\n",
    "    \n",
    "    # preprocess & segment data\n",
    "    X_train, X_holdout, y_train, y_holdout = preprocess(df, return_features_df=return_df)\n",
    "    \n",
    "    # fit data to a linear regression model\n",
    "    scores = cross_val_score(model,X_train,y_train, cv=5)\n",
    "    \n",
    "    # evaluate RMSE on holdout set\n",
    "    reg = model.fit(X_train,y_train)\n",
    "    BSC_predicted = reg.predict(X_holdout)\n",
    "    BSC_predicted[BSC_predicted > 5] = 5\n",
    "    global holdout_rmse\n",
    "    holdout_rmse = np.sqrt(mean_squared_error(BSC_predicted, y_holdout))\n",
    "    \n",
    "    print('Training test CV scores:{}'.format(scores))\n",
    "    print('Hold-out RMSE: {}'.format(holdout_rmse))\n",
    "    if coef_print==True:\n",
    "        print(\"Linear model:\\n\", pretty_print_linear(reg.coef_, names=list(df.columns), sort=True))\n",
    "    print('--------------------')\n",
    "    \n",
    "    if return_df==True: \n",
    "        df_copy = df\n",
    "        df_copy.loc[:,'Predicted'] = reg.predict(df_features)\n",
    "        df_copy.loc[:,'Residual'] = df['BSC'] - df['Predicted']\n",
    "        return df_copy"
   ]
  },
  {
   "cell_type": "markdown",
   "metadata": {},
   "source": [
    "Third step, performed below, is model selection."
   ]
  },
  {
   "cell_type": "markdown",
   "metadata": {},
   "source": [
    "## Model Selection\n",
    "\n",
    "### Linear Regression\n",
    "\n",
    "Simple linear regression models the relationship between the magnitude of one variable and that of a second. Regression goes beyond the previous analysis of regression that measured the strength of the association between variables, and tries to quantify and utilize that relationship to predict.\n",
    "\n",
    "In the code below, my Pipeline function is utilized on the dataset, and the RMSE score is provided along with a listing of the coefficients."
   ]
  },
  {
   "cell_type": "code",
   "execution_count": 4,
   "metadata": {},
   "outputs": [
    {
     "name": "stdout",
     "output_type": "stream",
     "text": [
      "Training test CV scores:[ 0.52391036  0.50037514  0.48623379  0.51861564  0.51059166]\n",
      "Hold-out RMSE: 0.5693962291818182\n",
      "Linear model:\n",
      " 0.124 * Year\n",
      " + 0.036 * NoEnglish\n",
      " + 0.036 * EmploymentRate\n",
      " + -0.027 * AgJobs\n",
      " + 0.023 * Families\n",
      " + -0.022 * ArmedForcesPer\n",
      " + 0.022 * BornInState\n",
      " + -0.019 * BSC\n",
      " + -0.018 * AptBuildings\n",
      " + 0.016 * InformationJobsPer\n",
      " + 0.011 * MobileHomes\n",
      " + -0.008 * HighSchoolGrads\n",
      " + -0.004 * PublicTrans\n",
      " + -0.004 * colleges\n",
      " + 0.003 * InformationJobs\n",
      " + 0.0 * TractArea\n",
      " + -0.0 * Annual Payroll\n",
      " + 0.0 * Unemployed\n",
      " + 0.0 * Population\n",
      " + 0.0 * HomePrice\n",
      " + -0.0 * NumberofFirms\n",
      " + -0.0 * PctBachelors\n",
      " + 0.0 * TotalHouseholds\n",
      " + -0.0 * Rural_Pct\n",
      " + 0.0 * Income\n",
      " + -0.0 * county_fips\n",
      " + -0.0 * SameHouseResidence\n",
      "--------------------\n"
     ]
    }
   ],
   "source": [
    "Pipeline(lr_bb, LinearRegression())"
   ]
  },
  {
   "cell_type": "markdown",
   "metadata": {},
   "source": [
    "Fitting my data to the most generalized linear regression model produces an RMSE of .57, meaning that is the average error from actual BSC is about half. This is not awful, but improvements can be made in two ways: 1) a simpler model, and 2) a lower RMSE score indicating more accurate predictions."
   ]
  },
  {
   "cell_type": "markdown",
   "metadata": {},
   "source": [
    "### Ridge Regression\n",
    "\n",
    "In regression, it is always best to take the simplest approach possible and use the least number of predictor variables when possible.  Ridge regression is a linear model that simplifies Linear Regression by making the magnitude of the coefficients as small as absolutely possible while still predicting well. This will provide us with a model that predicts equally well but relies on less features to make that prediction, while also preventing overfitting.\n",
    "\n",
    "Unlike linear regression, there are hyperparameters that need to be chosen in Ridge Regression. The hyperparameter in this case is alpha, and it is selected below via a search through a range of possible values."
   ]
  },
  {
   "cell_type": "code",
   "execution_count": 5,
   "metadata": {},
   "outputs": [
    {
     "name": "stdout",
     "output_type": "stream",
     "text": [
      "alpha: 0.001\n",
      "Training test CV scores:[ 0.52391036  0.50037514  0.48623379  0.51861564  0.51059166]\n",
      "Hold-out RMSE: 0.5693962291123392\n",
      "--------------------\n",
      "alpha: 0.01\n",
      "Training test CV scores:[ 0.52391037  0.50037514  0.48623378  0.51861564  0.51059166]\n",
      "Hold-out RMSE: 0.5693962284962066\n",
      "--------------------\n",
      "alpha: 0.1\n",
      "Training test CV scores:[ 0.52391038  0.50037517  0.48623377  0.51861562  0.5105917 ]\n",
      "Hold-out RMSE: 0.5693962223355399\n",
      "--------------------\n",
      "alpha: 1\n",
      "Training test CV scores:[ 0.52391055  0.50037542  0.48623366  0.51861537  0.51059208]\n",
      "Hold-out RMSE: 0.5693961607938064\n",
      "--------------------\n",
      "alpha: 10\n",
      "Training test CV scores:[ 0.52391222  0.50037791  0.48623249  0.51861285  0.51059582]\n",
      "Hold-out RMSE: 0.5693955518650778\n",
      "--------------------\n",
      "alpha: 100\n",
      "Training test CV scores:[ 0.52392716  0.50040075  0.48621745  0.51858626  0.51063134]\n",
      "Hold-out RMSE: 0.5693901045770221\n",
      "--------------------\n",
      "alpha: 1000\n",
      "Training test CV scores:[ 0.5239251   0.50044577  0.48582173  0.5181939   0.5108173 ]\n",
      "Hold-out RMSE: 0.5693935559565599\n",
      "--------------------\n",
      "alpha: 10000\n",
      "Training test CV scores:[ 0.51802096  0.49436045  0.47689076  0.50999721  0.50617889]\n",
      "Hold-out RMSE: 0.5717014783994758\n",
      "--------------------\n",
      ">>> Best alpha: 100\n"
     ]
    }
   ],
   "source": [
    "current_min = 1\n",
    "best_alpha = None\n",
    "\n",
    "for i in [.001,.01,.1,1,10,100,1000,10000]:\n",
    "    print('alpha:', i)\n",
    "    Pipeline(lr_bb, Ridge(alpha=i), coef_print=False)\n",
    "    if holdout_rmse < current_min: \n",
    "        current_min = holdout_rmse\n",
    "        best_alpha = i\n",
    "        \n",
    "print('>>> Best alpha:', best_alpha)"
   ]
  },
  {
   "cell_type": "markdown",
   "metadata": {},
   "source": [
    "The diffences in RMSE are very small, but we are not necessairily searching for that here. What we are really looking for is a way to simplify our model. In order to do so, I want to take a look at the coefficients with a Ridge model with that optimized alpha."
   ]
  },
  {
   "cell_type": "code",
   "execution_count": 6,
   "metadata": {},
   "outputs": [
    {
     "name": "stdout",
     "output_type": "stream",
     "text": [
      "Training test CV scores:[ 0.5239251   0.50044577  0.48582173  0.5181939   0.5108173 ]\n",
      "Hold-out RMSE: 0.5693935559565599\n",
      "Linear model:\n",
      " 0.119 * Year\n",
      " + 0.034 * EmploymentRate\n",
      " + 0.034 * NoEnglish\n",
      " + -0.026 * AgJobs\n",
      " + 0.023 * Families\n",
      " + 0.023 * BornInState\n",
      " + -0.022 * ArmedForcesPer\n",
      " + -0.018 * BSC\n",
      " + -0.015 * AptBuildings\n",
      " + 0.015 * InformationJobsPer\n",
      " + 0.01 * MobileHomes\n",
      " + -0.008 * HighSchoolGrads\n",
      " + -0.004 * PublicTrans\n",
      " + -0.004 * colleges\n",
      " + 0.003 * InformationJobs\n",
      " + 0.0 * TractArea\n",
      " + -0.0 * Annual Payroll\n",
      " + 0.0 * Unemployed\n",
      " + 0.0 * Population\n",
      " + 0.0 * HomePrice\n",
      " + -0.0 * NumberofFirms\n",
      " + -0.0 * PctBachelors\n",
      " + 0.0 * TotalHouseholds\n",
      " + -0.0 * Rural_Pct\n",
      " + 0.0 * Income\n",
      " + -0.0 * county_fips\n",
      " + -0.0 * SameHouseResidence\n",
      "--------------------\n"
     ]
    }
   ],
   "source": [
    "Pipeline(lr_bb, Ridge(alpha=1000))"
   ]
  },
  {
   "cell_type": "markdown",
   "metadata": {},
   "source": [
    "The model has determined which coefficients can be used to make accurate predictions, and which we can eliminate. We can test this by dropping features which were given coefficients equal to zero in the initial run of our Ridge regression test, and then testing that dataset."
   ]
  },
  {
   "cell_type": "code",
   "execution_count": 7,
   "metadata": {},
   "outputs": [
    {
     "name": "stdout",
     "output_type": "stream",
     "text": [
      "Training test CV scores:[ 0.47606171  0.42921875  0.42982885  0.45819561  0.45354681]\n",
      "Hold-out RMSE: 0.6027995075729408\n",
      "Linear model:\n",
      " 0.115 * Year\n",
      " + 0.05 * EmploymentRate\n",
      " + 0.05 * NoEnglish\n",
      " + 0.032 * BornInState\n",
      " + -0.03 * AptBuildings\n",
      " + 0.03 * MobileHomes\n",
      " + -0.018 * HighSchoolGrads\n",
      " + -0.01 * PublicTrans\n",
      " + -0.004 * InformationJobs\n",
      " + -0.0 * AgJobs\n",
      " + -0.0 * InformationJobsPer\n",
      " + 0.0 * county_fips\n",
      " + 0.0 * BSC\n",
      "--------------------\n"
     ]
    }
   ],
   "source": [
    "zero_coef_features = ['Population','TractArea','PctBachelors','Unemployed','SameHouseResidence',\n",
    "                        'HomePrice','TotalHouseholds','NumberofFirms','Annual Payroll','Income','Rural_Pct',\n",
    "                      'Families','ArmedForcesPer','colleges']\n",
    "test_df = lr_bb.drop(zero_coef_features, axis=1)\n",
    "Pipeline(test_df, Ridge(alpha=1000))"
   ]
  },
  {
   "cell_type": "markdown",
   "metadata": {},
   "source": [
    "The CV scores went down slightly and the RMSE increased just a bit, but it is still impressive how well the model performs with just 10 of the original 24 variables!"
   ]
  },
  {
   "cell_type": "markdown",
   "metadata": {},
   "source": [
    "#### Recursive Feature Elimination"
   ]
  },
  {
   "cell_type": "markdown",
   "metadata": {},
   "source": [
    "Another approach in contrast to Ridge regression to simplify our model is iterative feature selection. This method starts with a fully built linear model, then iteratively eliminates features from the model depending on their scores, also known as Recursive Feature Elimination (RFE). It should be noted that this is a very computationally expensive method given the large amount of cross validation performed, but my dataset here is small enough that it can be used. "
   ]
  },
  {
   "cell_type": "markdown",
   "metadata": {},
   "source": [
    "This is an effective means of removing unnecessary features from each model."
   ]
  },
  {
   "cell_type": "code",
   "execution_count": 8,
   "metadata": {
    "collapsed": true
   },
   "outputs": [],
   "source": [
    "n_features_dict = {}\n",
    "\n",
    "for i in reversed(range(1, lr_bb.shape[1])):\n",
    "    # preprocess & segment data\n",
    "    X_train, X_holdout, y_train, y_holdout = preprocess(lr_bb)\n",
    "\n",
    "    # fit data to a linear regression model\n",
    "    lm = LinearRegression()\n",
    "    Selector = RFE(lm, n_features_to_select=i, step=1, verbose=0)\n",
    "    reduced_lm = Selector.fit(X_train,y_train)\n",
    "\n",
    "    # use it to predict\n",
    "    BSC_predicted = reduced_lm.predict(X_holdout)\n",
    "    BSC_predicted[BSC_predicted > 5] = 5\n",
    "\n",
    "    # save\n",
    "    rmse = np.sqrt(mean_squared_error(BSC_predicted, y_holdout))\n",
    "    n_features_dict[i] = rmse\n",
    "    \n"
   ]
  },
  {
   "cell_type": "code",
   "execution_count": 9,
   "metadata": {},
   "outputs": [
    {
     "data": {
      "image/png": "[encoded data removed]",
      "text/plain": [
       "<matplotlib.figure.Figure at 0x10f8c60f0>"
      ]
     },
     "metadata": {},
     "output_type": "display_data"
    }
   ],
   "source": [
    "plt.plot(n_features_dict.keys(),n_features_dict.values())\n",
    "plt.xlabel('n_features')\n",
    "plt.ylabel('RMSE')\n",
    "plt.title('RFE Assessment')\n",
    "plt.show()"
   ]
  },
  {
   "cell_type": "markdown",
   "metadata": {},
   "source": [
    "If we look at the figure above, we can see at x=11 RMSE falls sharply. This would be a number of features and is comporable to the number of features I reduced to in my Ridge exploration. Below I restrict the the dataset to the top 11 selected by RFE features and test for RMSE."
   ]
  },
  {
   "cell_type": "code",
   "execution_count": 10,
   "metadata": {},
   "outputs": [
    {
     "name": "stdout",
     "output_type": "stream",
     "text": [
      "['BSC' 'Rural_Pct' 'PctBachelors' 'InformationJobs' 'BornInState'\n",
      " 'HighSchoolGrads' 'MobileHomes' 'NoEnglish' 'InformationJobsPer'\n",
      " 'ArmedForcesPer' 'Unemployed']\n"
     ]
    }
   ],
   "source": [
    "preprocess(lr_bb)\n",
    "\n",
    "# fit data to a linear regression model\n",
    "lm = LinearRegression()\n",
    "Selector = RFE(lm, n_features_to_select=11, step=1, verbose=0)\n",
    "reduced_lm = Selector.fit(X_train,y_train)\n",
    "\n",
    "RFE_features = np.array(list(lr_bb.columns)[1:])\n",
    "RFE_features = RFE_features[np.array(reduced_lm.support_)]\n",
    "print(RFE_features)\n",
    "\n",
    "RFE_bb = lr_bb[RFE_features]"
   ]
  },
  {
   "cell_type": "code",
   "execution_count": 11,
   "metadata": {},
   "outputs": [
    {
     "name": "stdout",
     "output_type": "stream",
     "text": [
      "Training test CV scores:[ 0.46729722  0.4374322   0.42919033  0.45973047  0.45703664]\n",
      "Hold-out RMSE: 0.5995774503721648\n",
      "Linear model:\n",
      " 0.035 * Rural_Pct\n",
      " + 0.03 * PctBachelors\n",
      " + 0.03 * NoEnglish\n",
      " + 0.027 * BornInState\n",
      " + -0.024 * MobileHomes\n",
      " + -0.021 * ArmedForcesPer\n",
      " + 0.01 * InformationJobsPer\n",
      " + -0.008 * HighSchoolGrads\n",
      " + -0.006 * InformationJobs\n",
      " + -0.005 * BSC\n",
      "--------------------\n"
     ]
    }
   ],
   "source": [
    "Pipeline(RFE_bb, LinearRegression())"
   ]
  },
  {
   "cell_type": "markdown",
   "metadata": {},
   "source": [
    "Not bad! Like ridge regression, we can hold a steady RMSE with a significantly reduced number of features using this method.\n",
    "\n",
    "What is interesting in comparing these two methods of feature engineering is which features were selected in each case. Ridge regression operates in a regularized manner, so that the features initially observed to be highly correlated with the target variable do not always end up having significant coefficients since the model is assessed and built in a totally different way. In contrast, RFE selects features that are less surprising given my findings in examing correlations between features and the target. "
   ]
  },
  {
   "cell_type": "markdown",
   "metadata": {},
   "source": [
    "### Random Forest Regression\n",
    "Random Forest models are one of the popular and effective applications of machine learning for prediction. They are ensemble methods, building a multitude (a \"forest\") of if/then decision trees on randomized subsets of the data. This ensemble approach is superior to a single decision tree, which has a strong tendency to overfit. However, when many decision trees are created and averaged out, it creates a very powerful model with less of an overfitting tendency. They can be used for classification, or for regression as they are used here. One definite advantage of a Random Forest Regressor (RFR) in this case, though more often seen as a limitation, is that it will only predict values that it has encountered previously. Since we are predicting for a fixed 0-5 range and all those values are encountered in the data, this actually eliminates the need to place a ceiling on predictions as I did for the linear models.\n",
    "\n",
    "In this case, I will user a parameter grid and GridSearchCV() to select the best hyperparameters for the RandomForest."
   ]
  },
  {
   "cell_type": "code",
   "execution_count": 12,
   "metadata": {},
   "outputs": [
    {
     "name": "stdout",
     "output_type": "stream",
     "text": [
      "Holdout set score: 0.70\n",
      "Best parameters: {'max_features': 'sqrt', 'n_estimators': 100}\n"
     ]
    }
   ],
   "source": [
    "rf_bb = broadband.drop(['Unnamed: 0', 'state', 'statename'], axis=1)\n",
    "\n",
    "X_train, X_holdout, y_train, y_holdout = preprocess(rf_bb)\n",
    "\n",
    "param_grid = {'n_estimators': [20,40,60,80,100],\n",
    "             'max_features': ['auto', 'log2', 'sqrt']}\n",
    "\n",
    "grid_search = GridSearchCV(RandomForestRegressor(random_state=42), param_grid, cv=5)\n",
    "\n",
    "# evaluate RMSE on holdout set\n",
    "grid_search.fit(X_train, y_train)\n",
    "print(\"Holdout set score: {:.2f}\".format(grid_search.score(X_holdout, y_holdout)))\n",
    "print(\"Best parameters: {}\".format(grid_search.best_params_))\n"
   ]
  },
  {
   "cell_type": "markdown",
   "metadata": {},
   "source": [
    "The grid search reveals two things. Increasing the size of my Random Forest will always yield better results, but the rate of return for more estimators decreases rapidly, while the time to run computations increases. By isolating scores from the best performing \"max_features\" method producing the plot below, I can identify an \"elbow\" point at n_features = 40. While this is not the best parameter overall, it works well when computation time is taken into account. In fact, when RMSE is calculated it performs better than any of the linear models! "
   ]
  },
  {
   "cell_type": "code",
   "execution_count": 13,
   "metadata": {},
   "outputs": [
    {
     "data": {
      "image/png": "[encoded data removed]",
      "text/plain": [
       "<matplotlib.figure.Figure at 0x11152d630>"
      ]
     },
     "metadata": {},
     "output_type": "display_data"
    }
   ],
   "source": [
    "results = grid_search.cv_results_\n",
    "sqrt_only = results['mean_test_score'][-5:]\n",
    "plt.plot(param_grid['n_estimators'], sqrt_only)\n",
    "plt.xlabel('Number of Estimators')\n",
    "plt.ylabel('Score (accuracy)')\n",
    "plt.show()"
   ]
  },
  {
   "cell_type": "code",
   "execution_count": 14,
   "metadata": {},
   "outputs": [
    {
     "name": "stdout",
     "output_type": "stream",
     "text": [
      "0.445276201655\n"
     ]
    }
   ],
   "source": [
    "best_rf = grid_search.best_estimator_\n",
    "BSC_predicted = best_rf.predict(X_holdout)\n",
    "holdout_rmse = np.sqrt(mean_squared_error(BSC_predicted, y_holdout))\n",
    "print(holdout_rmse)"
   ]
  },
  {
   "cell_type": "markdown",
   "metadata": {},
   "source": [
    "The Random Forest Regressor is returning some great results! This is very good. Is it possible to simplify the model further? Here, I create a report of the feature importances and then use that to create a new DataFrame that only uses features that are in top half of feature importances overall.\n",
    "\n",
    "(plot_feature_importances function was copied from pg. 79 of *Introduction to Machine Learning with Python* by Müller & Guido)"
   ]
  },
  {
   "cell_type": "code",
   "execution_count": 15,
   "metadata": {},
   "outputs": [
    {
     "data": {
      "image/png": "[encoded data removed]",
      "text/plain": [
       "<matplotlib.figure.Figure at 0x1116ddb00>"
      ]
     },
     "metadata": {},
     "output_type": "display_data"
    }
   ],
   "source": [
    "# the preprocess function used elsewhere cannot be used here \n",
    "rf_features_wNaN = rf_bb.drop('BSC',axis = 1)\n",
    "rf_features = pd.DataFrame(imp.fit_transform(rf_features_wNaN))\n",
    "rf_features.columns = rf_features_wNaN.columns\n",
    "\n",
    "def plot_feature_importances(model):\n",
    "    n_features = rf_features.shape[1]\n",
    "    plt.barh(range(n_features), model.feature_importances_, align='center')\n",
    "    plt.yticks(np.arange(n_features), list(rf_features.columns))\n",
    "    plt.xlabel('Feature Importance')\n",
    "    plt.ylabel(\"Feature\")\n",
    "    plt.ylim(-1,n_features)\n",
    "\n",
    "plot_feature_importances(best_rf)\n",
    "plt.show()"
   ]
  },
  {
   "cell_type": "markdown",
   "metadata": {},
   "source": [
    "Looking at the results above, the important features are similar to the set identified in RFE and in the EDA previous to this module. This is further confirmed by producing a list of the features in the top half of feature importance below."
   ]
  },
  {
   "cell_type": "code",
   "execution_count": 16,
   "metadata": {},
   "outputs": [
    {
     "name": "stdout",
     "output_type": "stream",
     "text": [
      "['county_fips', 'Year', 'Income', 'HomePrice', 'PctBachelors', 'EmploymentRate', 'BornInState', 'HighSchoolGrads', 'MobileHomes', 'TotalHouseholds', 'Annual Payroll', 'NumberofFirms', 'PopDensity']\n"
     ]
    }
   ],
   "source": [
    "# Create a dict and use list comprehension to get the top half of scored features\n",
    "rf_FI_dict = dict(zip(list(rf_features.columns),best_rf.feature_importances_))\n",
    "FI_median = np.median(list(rf_FI_dict.values()))\n",
    "high_FI_values  = [i for i in list(rf_FI_dict.values()) if i > FI_median]\n",
    "high_FI_features = []\n",
    "for k, v in rf_FI_dict.items(): \n",
    "    if v in high_FI_values: high_FI_features.append(k)\n",
    "        \n",
    "print(high_FI_features)"
   ]
  },
  {
   "cell_type": "markdown",
   "metadata": {},
   "source": [
    "Finally, to wrap up optimizing the Random Forest Model, I can use the results of the above to reduce the dataframe to the features identified as important and test for RMSE on that."
   ]
  },
  {
   "cell_type": "code",
   "execution_count": 17,
   "metadata": {},
   "outputs": [
    {
     "name": "stdout",
     "output_type": "stream",
     "text": [
      "Number of features in dataset:  13\n",
      "RMSE: 0.452950735537\n"
     ]
    }
   ],
   "source": [
    "# add target variable and set data to important features\n",
    "high_FI_features += ['BSC']\n",
    "RF_optimized_bb = rf_bb[high_FI_features]\n",
    "\n",
    "# split into training and test sets\n",
    "X_train, X_holdout, y_train, y_holdout = preprocess(RF_optimized_bb)\n",
    "\n",
    "# create the RFR object with the previously identified optimal parameters.\n",
    "rf_optimized = RandomForestRegressor(n_estimators=40, max_features='sqrt')\n",
    "\n",
    "# evaluate RMSE on holdout set\n",
    "rf_optimized.fit(X_train, y_train)\n",
    "BSC_predicted = rf_optimized.predict(X_holdout)\n",
    "holdout_rmse = np.sqrt(mean_squared_error(BSC_predicted, y_holdout))\n",
    "print(\"Number of features in dataset: \", len(high_FI_features)-1)\n",
    "print(\"RMSE:\", holdout_rmse)"
   ]
  },
  {
   "cell_type": "markdown",
   "metadata": {},
   "source": [
    "Awesome! The reduced dataframe produces an RMSE just slightly higher than the one using the full dataset. This means that the model was able to build out decision trees that predicted nearly as well even with a significantly reduced amount of information.\n",
    "\n",
    "If the previous tests hadn't made it clear, RandomForestRegressors definitely seem to be the best performing model for this data, even with a reduced number of features. The RMSE score of .452 is significantly below anything produced by the Linear or Ridge regression model."
   ]
  },
  {
   "cell_type": "markdown",
   "metadata": {},
   "source": [
    "## Further Optimization"
   ]
  },
  {
   "cell_type": "markdown",
   "metadata": {},
   "source": [
    "One useful improvement was segmenting the data based on its real-world origins. Each record is a county in a particular year, and we are trying to predict based on various demographic factors collected by the census bureau. In order to improve RMSE here, I segmented the data into three distinct DataFrames representing rural, semirural, and urban counties and trained a RFR model with previously identified optimal hyper-parameters on each (based on definitions from the Census Bureau). I did this because the various features operate differently at different levels of rurality, for example I discovered that income matters much less as rurality increases. The result is better trained models that produce lower RMSE scores overall."
   ]
  },
  {
   "cell_type": "code",
   "execution_count": 18,
   "metadata": {},
   "outputs": [
    {
     "name": "stdout",
     "output_type": "stream",
     "text": [
      "n: 6285\n",
      "Training test CV scores:[ 0.7043138   0.67182366  0.66890859  0.65040182  0.65235485]\n",
      "Hold-out RMSE: 0.3761405355265361\n",
      "--------------------\n",
      "n: 5900\n",
      "Training test CV scores:[ 0.61946137  0.59094376  0.58969741  0.61643137  0.5992256 ]\n",
      "Hold-out RMSE: 0.45560132084896554\n",
      "--------------------\n",
      "n: 3493\n",
      "Training test CV scores:[ 0.52546285  0.53926013  0.51697676  0.56953099  0.53923685]\n",
      "Hold-out RMSE: 0.5370358893919408\n",
      "--------------------\n"
     ]
    }
   ],
   "source": [
    "# segment the DataFrames and train individual linear regression models on each\n",
    "urban_bb = lr_bb[lr_bb['Rural_Pct'] < 50]\n",
    "semirural_bb = lr_bb[(lr_bb['Rural_Pct'] > 50) & (broadband['Rural_Pct'] < 99.9)]\n",
    "rural_bb = lr_bb[lr_bb['Rural_Pct'] == 100]\n",
    "\n",
    "for subset in [urban_bb, semirural_bb, rural_bb]:\n",
    "    print('n:', subset.shape[0])\n",
    "    Pipeline(subset,RandomForestRegressor(n_estimators=40, max_features='sqrt'), coef_print=False)"
   ]
  },
  {
   "cell_type": "markdown",
   "metadata": {
    "collapsed": true
   },
   "source": [
    "There is a lot to unpack here. Overall, I can predict urban and semirural counties fairly well and better than when the model is trained on the entire dataset. Urban counties in particular have an RMSE of .45, meaning that the average prediction is only off by .45. Considering that urban counties are the most numerous, this is good news. However, the more rural the county is, generally the worse off the model gets at predicting BSC."
   ]
  },
  {
   "cell_type": "markdown",
   "metadata": {},
   "source": [
    "## Applications\n",
    "\n",
    "At this point it is good to ask two questions: What exaclty has been built in this and how is it useful? Reflecting again on the real-world origins and goals of this project, it is very useful to examine the residuals of the prediction since they show which counties would be best for further expansion by telecom companies. A histogram of the residuals (actual - predicted) is below."
   ]
  },
  {
   "cell_type": "code",
   "execution_count": 19,
   "metadata": {},
   "outputs": [
    {
     "name": "stdout",
     "output_type": "stream",
     "text": [
      "Training test CV scores:[ 0.68355336  0.66127747  0.65837601  0.67427986  0.66553085]\n",
      "Hold-out RMSE: 0.4482548599949421\n",
      "--------------------\n"
     ]
    },
    {
     "data": {
      "image/png": "[encoded data removed]",
      "text/plain": [
       "<matplotlib.figure.Figure at 0x11141ea90>"
      ]
     },
     "metadata": {},
     "output_type": "display_data"
    }
   ],
   "source": [
    "resid_df = Pipeline(lr_bb, RandomForestRegressor(n_estimators=40, max_features='sqrt'), coef_print=False, return_df=True)\n",
    "plt.hist(resid_df.Residual, bins=25)\n",
    "plt.xlabel('Residual')\n",
    "plt.ylabel('Count')\n",
    "plt.show()"
   ]
  },
  {
   "cell_type": "code",
   "execution_count": 20,
   "metadata": {
    "collapsed": true
   },
   "outputs": [],
   "source": [
    "resid_df[resid_df['Year']==2011].to_csv('resid_map_2011.csv')\n",
    "resid_df[resid_df['Year']==2015].to_csv('resid_map_2015.csv')"
   ]
  },
  {
   "cell_type": "markdown",
   "metadata": {},
   "source": [
    "Since this project is based on geographical units, it makes sense to map our residuals (from RFR predictions) to see if there are any patterns. Below is a map of the residuals for 2015, with the coloration corresponding to the number of standard deviations from the mean of the residuals for that particular year. Put simply, red counties are overpredicted, and blue counties are underpredicted.\n",
    "\n",
    "This map achieve the objective of this project: they identify areas that are underserved in home broadband subscription based on rigorous statistical calculation of factors that lead to broadband subscription rates. It should be noted that they are results from the generalized linear regression model rather than the segmented models from the \"Further Optimization\" section, but they still provide us, and telecom companies that are the theoretical consumers of this project, useful information. For example, it looks like in the most recent map that Arkansas, Mississippi and Lousiana in the south are the most underserved and could benefit from market expansion. Same with some areas of Nevada as well."
   ]
  },
  {
   "cell_type": "markdown",
   "metadata": {},
   "source": [
    "![2015 Residuals](2015_r_map.png)\n",
    "<center> **2015 Residuals** </center>"
   ]
  },
  {
   "cell_type": "markdown",
   "metadata": {},
   "source": [
    "## Conclusions"
   ]
  },
  {
   "cell_type": "markdown",
   "metadata": {},
   "source": [
    "This project has successfully provided a predictive model for BSC, achieving an RMSE of .57 in the generalized model and as low as .45 for subsets of the data. Data was collected from a variety of sources, cleaned, and arranged. EDA was undertaken to determine general patterns in the data, as well as discovery of highly correlated features. In this final unit, a predictive linear regression model was built, simplified in two different ways, and used to produce a valuable map of residuals.\n",
    "\n",
    "Further research could be undertaken to understand the high variance and poor predictability of in rural counties. Development of a feature that performs particularly well in rural counties would be very valuable in reducing overall RMSE. Additionally, spatial interpolation techniques could be used to improve accuracy of the predictions even further. I may return to this project in the future to do that, but will leave it for now."
   ]
  },
  {
   "cell_type": "code",
   "execution_count": null,
   "metadata": {
    "collapsed": true
   },
   "outputs": [],
   "source": []
  }
 ],
 "metadata": {
  "kernelspec": {
   "display_name": "Python 3",
   "language": "python",
   "name": "python3"
  },
  "language_info": {
   "codemirror_mode": {
    "name": "ipython",
    "version": 3
   },
   "file_extension": ".py",
   "mimetype": "text/x-python",
   "name": "python",
   "nbconvert_exporter": "python",
   "pygments_lexer": "ipython3",
   "version": "3.6.3"
  }
 },
 "nbformat": 4,
 "nbformat_minor": 2
}
