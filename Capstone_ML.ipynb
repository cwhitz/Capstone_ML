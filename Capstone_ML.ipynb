{
 "cells": [
  {
   "cell_type": "markdown",
   "metadata": {},
   "source": [
    "# Broadband Growth Across the US\n",
    "## Machine Learning\n",
    "### Chester Hitz | Springboard Data Science Career Track | Capstone I\n",
    "\n",
    "The goal of this final component of my capstone is to apply what I have discovered thus far in my project and apply it to build a predictive model using tools from sci-kit learn. I will build and evaluate several models, then try to establish a deeper understanding of my model's strengths and weaknesses as well as the real-world applications of my results.\n",
    "\n",
    "### Work thus far\n",
    "I started this project with my data wrangling component, where I assembled a DataFrame consisting of 13k rows, each one representing a county in a particular year across a four year period (2011-2015) with a target variable. The target variable is a number corresponding to a category for \"residential fixed Internet access connections per 1,000 households by county for both service over 200 kbps in at least one direction and service at least 10 Mbps down / 1 Mbps up.\". This is the BSC, or broadband subscription category. The categories are listed as follows, with x representing connections per 1,000 households:\n",
    "* 0: Zero \n",
    "* 1: Zero < x <= 200 \n",
    "* 2: 200 < x <= 400 \n",
    "* 3: 400 < x <= 600 \n",
    "* 4: 600 < x <= 800 \n",
    "* 5: 800 < x\n",
    "\n",
    "I then populated this DataFrame further with various features pulled from the census API and other sources to complete my DataWrangling component. In my Data Storytelling and Inferential Statistics modules, I examined the data and found 1) that BSC did move upward over the study period and 2) that economic factors were the most closely correlated to BSC.\n",
    "\n",
    "In this final module, I will build on those previous units to construct a predictive model. Though I am technically predicting for a category, the category is essentially bins for numerical data, so a scikit-learn LinearRegression model will be used in this case."
   ]
  },
  {
   "cell_type": "markdown",
   "metadata": {},
   "source": [
    "### Preprocessing"
   ]
  },
  {
   "cell_type": "code",
   "execution_count": 1,
   "metadata": {
    "collapsed": true
   },
   "outputs": [],
   "source": [
    "# begin by importing all relevant libraries & previous data\n",
    "# standard data analysis libraries...\n",
    "import numpy as np\n",
    "import pandas as pd\n",
    "import scipy.stats as stats\n",
    "import matplotlib.pyplot as plt\n",
    "import seaborn as sns\n",
    "\n",
    "# ... and various scikit-learn functions\n",
    "from statsmodels.formula.api import ols\n",
    "from sklearn.metrics import mean_squared_error\n",
    "from sklearn.model_selection import train_test_split, cross_val_score\n",
    "from sklearn.linear_model import LinearRegression\n",
    "from sklearn.preprocessing import Imputer, normalize\n",
    "from sklearn.linear_model import Ridge\n",
    "from sklearn.feature_selection import RFE\n",
    "\n",
    "\n",
    "# import relevant data\n",
    "broadband = pd.read_csv('broadband.csv', dtype={'county_fips':str})"
   ]
  },
  {
   "cell_type": "markdown",
   "metadata": {},
   "source": [
    "My first step here is preprocessing my data for sci-kit learn's algorithms: Dropping unnecessary categorical features and the target variable and imputing missing values"
   ]
  },
  {
   "cell_type": "code",
   "execution_count": 2,
   "metadata": {
    "collapsed": true
   },
   "outputs": [],
   "source": [
    "# remove unnecessary features, impute NaN values, and isolate the features from the target in a new DataFrame\n",
    "lr_bb = broadband.drop(['Unnamed: 0', 'state', 'statename'], axis=1)\n",
    "df_features = lr_bb.drop('BSC', axis = 1)\n",
    "imp = Imputer(missing_values='NaN', strategy='median', axis=0)\n",
    "df_features = imp.fit_transform(df_features)\n",
    "\n",
    "# split the data 80/20 between training and test data\n",
    "X_train, X_test, y_train, y_test = train_test_split(df_features, lr_bb.BSC, test_size = .2)"
   ]
  },
  {
   "cell_type": "markdown",
   "metadata": {},
   "source": [
    "Second step is designing a function that will allow me to quickly preprocess my data and run it through a selected model to produce metrics for comparison with other models."
   ]
  },
  {
   "cell_type": "code",
   "execution_count": 3,
   "metadata": {
    "collapsed": true
   },
   "outputs": [],
   "source": [
    "# build a function to train and test different DataFrames\n",
    "\n",
    "# coefficient printer function from: http://blog.datadive.net/selecting-good-features-part-ii-linear-models-and-regularization/\n",
    "def pretty_print_linear(coefs, names = None, sort = False):\n",
    "    if names == None:\n",
    "        names = [\"X%s\" % x for x in range(len(coefs))]\n",
    "    lst = zip(coefs, names)\n",
    "    if sort:\n",
    "        lst = sorted(lst,  key = lambda x:-np.abs(x[0]))\n",
    "    return \"\\n + \".join(\"%s * %s\" % (round(coef, 3), name)\n",
    "                                   for coef, name in lst)\n",
    "def preprocess(df):\n",
    "    global X_train, X_holdout, y_train, y_holdout, df_features\n",
    "    df_features = df.drop('BSC',axis = 1)\n",
    "    df_features = imp.fit_transform(df_features)\n",
    "    X_train, X_holdout, y_train, y_holdout = train_test_split(df_features, df.BSC, test_size = .2, random_state=24)\n",
    "\n",
    "def LR_Pipeline(df, model, coef_print=True, return_df=False):\n",
    "    # preprocess & segment data\n",
    "    preprocess(df)\n",
    "    \n",
    "    # fit data to a linear regression model\n",
    "    scores = cross_val_score(model,X_train,y_train, cv=5)\n",
    "    \n",
    "    # evaluate RMSE on holdout set\n",
    "    lr = model.fit(X_train,y_train)\n",
    "    BSC_predicted = lr.predict(X_holdout)\n",
    "    BSC_predicted[BSC_predicted > 5] = 5\n",
    "    global holdout_rmse\n",
    "    holdout_rmse = np.sqrt(mean_squared_error(BSC_predicted, y_holdout))\n",
    "    \n",
    "    print('Training test CV scores:{}'.format(scores))\n",
    "    print('Hold-out RMSE: {}'.format(holdout_rmse))\n",
    "    if coef_print==True:\n",
    "        print(\"Linear model:\\n\", pretty_print_linear(lr.coef_, names=list(df.columns), sort=True))\n",
    "    print('--------------------')\n",
    "    \n",
    "    if return_df==True: \n",
    "        df_copy = df\n",
    "        df_copy.loc[:,'Predicted'] = lr.predict(df_features)\n",
    "        df_copy.loc[:,'Residual'] = df['BSC'] - df['Predicted']\n",
    "        return df_copy"
   ]
  },
  {
   "cell_type": "markdown",
   "metadata": {},
   "source": [
    "Third step, performed below, is model selection."
   ]
  },
  {
   "cell_type": "markdown",
   "metadata": {},
   "source": [
    "## Model Selection\n",
    "\n",
    "### Linear Regression\n",
    "\n",
    "Simple linear regression models the relationship between the magnitude of one variable and that of a second. Regression goes beyond the previous analysis of regression that measured the strength of the association between variables, and tries to quantify and utilize that relationship to predict.\n",
    "\n",
    "In the code below, my LR_Pipeline function is utilized on the dataset, and the RMSE score is provided along with a listing of the coefficients."
   ]
  },
  {
   "cell_type": "code",
   "execution_count": 4,
   "metadata": {},
   "outputs": [
    {
     "name": "stdout",
     "output_type": "stream",
     "text": [
      "Training test CV scores:[ 0.52678326  0.50015789  0.48937864  0.52120831  0.50984972]\n",
      "Hold-out RMSE: 0.5692135410980559\n",
      "Linear model:\n",
      " 0.117 * Year\n",
      " + 0.036 * EmploymentRate\n",
      " + 0.036 * NoEnglish\n",
      " + -0.027 * AgJobs\n",
      " + 0.023 * Families\n",
      " + 0.021 * BornInState\n",
      " + -0.019 * ArmedForcesPer\n",
      " + -0.017 * AptBuildings\n",
      " + -0.016 * BSC\n",
      " + 0.014 * InformationJobsPer\n",
      " + 0.011 * MobileHomes\n",
      " + -0.007 * HighSchoolGrads\n",
      " + -0.004 * PublicTrans\n",
      " + -0.004 * colleges\n",
      " + 0.003 * InformationJobs\n",
      " + 0.0 * Population\n",
      " + 0.0 * TractArea\n",
      " + 0.0 * Unemployed\n",
      " + -0.0 * NumberofFirms\n",
      " + -0.0 * PctBachelors\n",
      " + -0.0 * Annual Payroll\n",
      " + 0.0 * HomePrice\n",
      " + 0.0 * TotalHouseholds\n",
      " + -0.0 * Rural_Pct\n",
      " + 0.0 * Income\n",
      " + -0.0 * county_fips\n",
      " + -0.0 * SameHouseResidence\n",
      "--------------------\n"
     ]
    }
   ],
   "source": [
    "LR_Pipeline(lr_bb, LinearRegression())"
   ]
  },
  {
   "cell_type": "markdown",
   "metadata": {},
   "source": [
    "Fitting my data to the most generalized linear regression model produces an RMSE of .57, meaning that is the average error from actual BSC is about half. This is not awful, but improvements can be made in two ways: 1) a simpler model, and 2) a lower RMSE score indicating more accurate predictions."
   ]
  },
  {
   "cell_type": "markdown",
   "metadata": {},
   "source": [
    "### Ridge Regression\n",
    "\n",
    "In regression, it is always best to take the simplest approach possible and use the least number of predictor variables when possible.  Ridge regression is a linear model that simplifies Linear Regression by making the magnitude of the coefficients as small as absolutely possible while still predicting well. This will provide us with a model that predicts equally well but relies on less features to make that prediction, while also preventing overfitting.\n",
    "\n",
    "Unlike linear regression, there are hyperparameters that need to be chosen in Ridge Regression. The hyperparameter in this case is alpha, and it is selected below via a search through a range of possible values."
   ]
  },
  {
   "cell_type": "code",
   "execution_count": 5,
   "metadata": {},
   "outputs": [
    {
     "name": "stdout",
     "output_type": "stream",
     "text": [
      "alpha: 0.001\n",
      "Training test CV scores:[ 0.52678326  0.50015789  0.48937864  0.52120831  0.50984972]\n",
      "Hold-out RMSE: 0.5692135409735029\n",
      "--------------------\n",
      "alpha: 0.01\n",
      "Training test CV scores:[ 0.52678327  0.50015789  0.48937864  0.5212083   0.50984972]\n",
      "Hold-out RMSE: 0.569213539871282\n",
      "--------------------\n",
      "alpha: 0.1\n",
      "Training test CV scores:[ 0.52678328  0.50015791  0.48937866  0.52120829  0.50984974]\n",
      "Hold-out RMSE: 0.5692135288496882\n",
      "--------------------\n",
      "alpha: 1\n",
      "Training test CV scores:[ 0.52678338  0.50015805  0.48937887  0.52120814  0.50984995]\n",
      "Hold-out RMSE: 0.5692134186947851\n",
      "--------------------\n",
      "alpha: 10\n",
      "Training test CV scores:[ 0.52678439  0.50015941  0.48938092  0.52120661  0.50985197]\n",
      "Hold-out RMSE: 0.5692123232443912\n",
      "--------------------\n",
      "alpha: 100\n",
      "Training test CV scores:[ 0.52679305  0.5001712   0.48939803  0.52119001  0.50987051]\n",
      "Hold-out RMSE: 0.5692019723248875\n",
      "--------------------\n",
      "alpha: 1000\n",
      "Training test CV scores:[ 0.52674824  0.50012631  0.4893179   0.52090878  0.50991093]\n",
      "Hold-out RMSE: 0.5691170048275637\n",
      "--------------------\n",
      "alpha: 10000\n",
      "Training test CV scores:[ 0.52122952  0.49397791  0.48284705  0.51403937  0.5048705 ]\n",
      "Hold-out RMSE: 0.5708363093146438\n",
      "--------------------\n",
      ">>> Best alpha: 1000\n"
     ]
    }
   ],
   "source": [
    "current_min = 1\n",
    "best_alpha = None\n",
    "\n",
    "for i in [.001,.01,.1,1,10,100,1000,10000]:\n",
    "    print('alpha:', i)\n",
    "    LR_Pipeline(lr_bb, Ridge(alpha=i), coef_print=False)\n",
    "    if holdout_rmse < current_min: \n",
    "        current_min = holdout_rmse\n",
    "        best_alpha = i\n",
    "        \n",
    "print('>>> Best alpha:', best_alpha)"
   ]
  },
  {
   "cell_type": "markdown",
   "metadata": {},
   "source": [
    "The diffences in RMSE are very small, but we are not necessairily searching for that here. What we are really looking for is a way to simplify our model. In order to do so, I want to take a look at the coefficients with a Ridge model with that optimized alpha."
   ]
  },
  {
   "cell_type": "code",
   "execution_count": 6,
   "metadata": {},
   "outputs": [
    {
     "name": "stdout",
     "output_type": "stream",
     "text": [
      "Training test CV scores:[ 0.52674824  0.50012631  0.4893179   0.52090878  0.50991093]\n",
      "Hold-out RMSE: 0.5691170048275637\n",
      "Linear model:\n",
      " 0.112 * Year\n",
      " + 0.034 * EmploymentRate\n",
      " + 0.034 * NoEnglish\n",
      " + -0.026 * AgJobs\n",
      " + 0.023 * Families\n",
      " + 0.021 * BornInState\n",
      " + -0.018 * ArmedForcesPer\n",
      " + -0.016 * BSC\n",
      " + -0.014 * AptBuildings\n",
      " + 0.014 * InformationJobsPer\n",
      " + 0.01 * MobileHomes\n",
      " + -0.007 * HighSchoolGrads\n",
      " + -0.004 * PublicTrans\n",
      " + -0.004 * colleges\n",
      " + 0.003 * InformationJobs\n",
      " + 0.0 * Population\n",
      " + 0.0 * TractArea\n",
      " + 0.0 * Unemployed\n",
      " + -0.0 * NumberofFirms\n",
      " + -0.0 * PctBachelors\n",
      " + 0.0 * HomePrice\n",
      " + -0.0 * Annual Payroll\n",
      " + 0.0 * TotalHouseholds\n",
      " + -0.0 * Rural_Pct\n",
      " + 0.0 * Income\n",
      " + -0.0 * county_fips\n",
      " + -0.0 * SameHouseResidence\n",
      "--------------------\n"
     ]
    }
   ],
   "source": [
    "LR_Pipeline(lr_bb, Ridge(alpha=1000))"
   ]
  },
  {
   "cell_type": "markdown",
   "metadata": {},
   "source": [
    "The model has determined which coefficients can be used to make accurate predictions, and which we can eliminate. We can test this by dropping features which were given coefficients equal to zero in the initial run of our Ridge regression test, and then testing that dataset."
   ]
  },
  {
   "cell_type": "code",
   "execution_count": 7,
   "metadata": {},
   "outputs": [
    {
     "name": "stdout",
     "output_type": "stream",
     "text": [
      "Training test CV scores:[ 0.47606171  0.42921875  0.42982885  0.45819561  0.45354681]\n",
      "Hold-out RMSE: 0.602799507572941\n",
      "Linear model:\n",
      " 0.115 * Year\n",
      " + 0.05 * EmploymentRate\n",
      " + 0.05 * NoEnglish\n",
      " + 0.032 * BornInState\n",
      " + -0.03 * AptBuildings\n",
      " + 0.03 * MobileHomes\n",
      " + -0.018 * HighSchoolGrads\n",
      " + -0.01 * PublicTrans\n",
      " + -0.004 * InformationJobs\n",
      " + -0.0 * AgJobs\n",
      " + -0.0 * InformationJobsPer\n",
      " + 0.0 * county_fips\n",
      " + 0.0 * BSC\n",
      "--------------------\n"
     ]
    }
   ],
   "source": [
    "zero_coef_features = ['Population','TractArea','PctBachelors','Unemployed','SameHouseResidence',\n",
    "                        'HomePrice','TotalHouseholds','NumberofFirms','Annual Payroll','Income','Rural_Pct',\n",
    "                      'Families','ArmedForcesPer','colleges']\n",
    "test_df = lr_bb.drop(zero_coef_features, axis=1)\n",
    "LR_Pipeline(test_df, Ridge(alpha=1000))"
   ]
  },
  {
   "cell_type": "markdown",
   "metadata": {},
   "source": [
    "The CV scores went down slightly and the RMSE increased just a bit, but it is still impressive how well the model performs with just 10 of the original 24 variables!"
   ]
  },
  {
   "cell_type": "markdown",
   "metadata": {},
   "source": [
    "### Recursive Feature Elimination"
   ]
  },
  {
   "cell_type": "markdown",
   "metadata": {},
   "source": [
    "Another approach in contrast to Ridge regression to simplify our model is iterative feature selection. This method starts with a fully built linear model, then iteratively eliminates features from the model depending on their scores, also known as Recursive Feature Elimination (RFE). It should be noted that this is a very computationally expensive method given the large amount of cross validation performed, but my dataset here is small enough that it can be used. "
   ]
  },
  {
   "cell_type": "markdown",
   "metadata": {},
   "source": [
    "This is an effective means of removing unnecessary features from each model."
   ]
  },
  {
   "cell_type": "code",
   "execution_count": 8,
   "metadata": {},
   "outputs": [],
   "source": [
    "n_features_dict = {}\n",
    "\n",
    "for i in reversed(range(1, lr_bb.shape[1])):\n",
    "    # preprocess & segment data\n",
    "    preprocess(lr_bb)\n",
    "\n",
    "    # fit data to a linear regression model\n",
    "    lm = LinearRegression()\n",
    "    Selector = RFE(lm, n_features_to_select=i, step=1, verbose=0)\n",
    "    reduced_lm = Selector.fit(X_train,y_train)\n",
    "\n",
    "    # use it to predict\n",
    "    BSC_predicted = reduced_lm.predict(X_holdout)\n",
    "    BSC_predicted[BSC_predicted > 5] = 5\n",
    "\n",
    "    # save\n",
    "    rmse = np.sqrt(mean_squared_error(BSC_predicted, y_holdout))\n",
    "    n_features_dict[i] = rmse\n",
    "    \n"
   ]
  },
  {
   "cell_type": "code",
   "execution_count": 9,
   "metadata": {},
   "outputs": [
    {
     "data": {
      "image/png": "[encoded data removed]",
      "text/plain": [
       "<matplotlib.figure.Figure at 0x1119f3320>"
      ]
     },
     "metadata": {},
     "output_type": "display_data"
    }
   ],
   "source": [
    "plt.plot(n_features_dict.keys(),n_features_dict.values())\n",
    "plt.xlabel('n_features')\n",
    "plt.ylabel('RMSE')\n",
    "plt.title('RFE Assessment')\n",
    "plt.show()"
   ]
  },
  {
   "cell_type": "markdown",
   "metadata": {},
   "source": [
    "If we look at the figure above, we can see at x=11 RMSE falls sharply. This would be a number of features and is comporable to the number of features I reduced to in my Ridge exploration. Below I restrict the the dataset to the top 11 selected by RFE features and test for RMSE."
   ]
  },
  {
   "cell_type": "code",
   "execution_count": 10,
   "metadata": {},
   "outputs": [
    {
     "name": "stdout",
     "output_type": "stream",
     "text": [
      "['BSC' 'Rural_Pct' 'PctBachelors' 'InformationJobs' 'BornInState'\n",
      " 'HighSchoolGrads' 'MobileHomes' 'NoEnglish' 'InformationJobsPer'\n",
      " 'ArmedForcesPer' 'Unemployed']\n"
     ]
    }
   ],
   "source": [
    "preprocess(lr_bb)\n",
    "\n",
    "# fit data to a linear regression model\n",
    "lm = LinearRegression()\n",
    "Selector = RFE(lm, n_features_to_select=11, step=1, verbose=0)\n",
    "reduced_lm = Selector.fit(X_train,y_train)\n",
    "\n",
    "RFE_features = np.array(list(lr_bb.columns)[1:])\n",
    "RFE_features = RFE_features[np.array(reduced_lm.support_)]\n",
    "print(RFE_features)\n",
    "\n",
    "RFE_bb = lr_bb[RFE_features]"
   ]
  },
  {
   "cell_type": "code",
   "execution_count": 11,
   "metadata": {},
   "outputs": [
    {
     "name": "stdout",
     "output_type": "stream",
     "text": [
      "Training test CV scores:[ 0.46729722  0.4374322   0.42919033  0.45973047  0.45703664]\n",
      "Hold-out RMSE: 0.5995774503721649\n",
      "Linear model:\n",
      " 0.035 * Rural_Pct\n",
      " + 0.03 * NoEnglish\n",
      " + 0.03 * PctBachelors\n",
      " + 0.027 * BornInState\n",
      " + -0.024 * MobileHomes\n",
      " + -0.021 * ArmedForcesPer\n",
      " + 0.01 * InformationJobsPer\n",
      " + -0.008 * HighSchoolGrads\n",
      " + -0.006 * InformationJobs\n",
      " + -0.005 * BSC\n",
      "--------------------\n"
     ]
    }
   ],
   "source": [
    "LR_Pipeline(RFE_bb, LinearRegression())"
   ]
  },
  {
   "cell_type": "markdown",
   "metadata": {},
   "source": [
    "Not bad! Like ridge regression, we can hold a steady RMSE with a significantly reduced number of features using this method.\n",
    "\n",
    "What is interesting in comparing these two methods of feature engineering is which features were selected in each case. Ridge regression operates in a regularized manner, so that the features initially observed to be highly correlated with the target variable do not always end up having significant coefficients since the model is assessed and built in a totally different way. In contrast, RFE selects features that are less surprising given my findings in examing correlations between features and the target. \n",
    "\n",
    "Are there ways to further improve the model now that we have simplified it a bit?"
   ]
  },
  {
   "cell_type": "markdown",
   "metadata": {},
   "source": [
    "## Further Optimization"
   ]
  },
  {
   "cell_type": "markdown",
   "metadata": {},
   "source": [
    "One useful improvement was segmenting the data based on its real-world origins. Each record is a county in a particular year, and we are trying to predict based on various demographic factors collected by the census bureau. In order to improve RMSE here, I segmented the data into three distinct DataFrames representing rural, semirural, and urban counties and trained a regression model on each (based on definitions from the census bureau). I did this because the various features operate differently at different levels of rurality, for example I discovered that income matters much less as rurality increases. The result is better trained models that produce lower RMSE scores overall."
   ]
  },
  {
   "cell_type": "code",
   "execution_count": 12,
   "metadata": {},
   "outputs": [
    {
     "name": "stdout",
     "output_type": "stream",
     "text": [
      "Urban. n: 6285\n",
      "Training test CV scores:[ 0.59994266  0.55962233  0.53734139  0.5558144   0.55480752]\n",
      "Hold-out RMSE: 0.45361766528005404\n",
      "--------------------\n",
      "Semirural. n: 5900\n",
      "Training test CV scores:[ 0.43493227  0.40287148  0.39723622  0.43288445  0.44389484]\n",
      "Hold-out RMSE: 0.5726702272784939\n",
      "--------------------\n",
      "Rural. n: 3493\n",
      "Training test CV scores:[ 0.34316487  0.3552628   0.28667418  0.39126906  0.30462013]\n",
      "Hold-out RMSE: 0.6708333363533827\n",
      "--------------------\n"
     ]
    }
   ],
   "source": [
    "# segment the DataFrames and train individual linear regression models on each\n",
    "urban_bb = lr_bb[lr_bb['Rural_Pct'] < 50]\n",
    "semirural_bb = lr_bb[(lr_bb['Rural_Pct'] > 50) & (broadband['Rural_Pct'] < 99.9)]\n",
    "rural_bb = lr_bb[lr_bb['Rural_Pct'] == 100]\n",
    "\n",
    "a=1000\n",
    "\n",
    "print('Urban. n:', urban_bb.shape[0])\n",
    "LR_Pipeline(urban_bb,LinearRegression(), coef_print=False)\n",
    "print('Semirural. n:', semirural_bb.shape[0])\n",
    "LR_Pipeline(semirural_bb,LinearRegression(), coef_print=False)\n",
    "print('Rural. n:', rural_bb.shape[0])\n",
    "LR_Pipeline(rural_bb,LinearRegression(), coef_print=False)"
   ]
  },
  {
   "cell_type": "markdown",
   "metadata": {
    "collapsed": true
   },
   "source": [
    "There is a lot to unpack here. Overall, I can predict urban and semirural counties fairly well and better than when the model is trained on the entire dataset. Urban counties in particular have an RMSE of .45, meaning that the average prediction is only off by .45. Considering that urban counties are the most numerous, this is good news. However, the more rural the county is, generally the worse off the model gets at predicting BSC."
   ]
  },
  {
   "cell_type": "markdown",
   "metadata": {},
   "source": [
    "## Applications\n",
    "\n",
    "At this point it is good to ask two questions: What exaclty has been built in this and how is it useful? Reflecting again on the real-world origins and goals of this project, it is very useful to examine the residuals of the prediction since they show which counties would be best for further expansion by telecom companies. A histogram of the residuals (actual - predicted) is below."
   ]
  },
  {
   "cell_type": "code",
   "execution_count": 13,
   "metadata": {},
   "outputs": [
    {
     "name": "stdout",
     "output_type": "stream",
     "text": [
      "Training test CV scores:[ 0.52678326  0.50015789  0.48937864  0.52120831  0.50984972]\n",
      "Hold-out RMSE: 0.5692135410980559\n",
      "--------------------\n"
     ]
    },
    {
     "data": {
      "image/png": "[encoded data removed]",
      "text/plain": [
       "<matplotlib.figure.Figure at 0x110a899b0>"
      ]
     },
     "metadata": {},
     "output_type": "display_data"
    }
   ],
   "source": [
    "resid_df = LR_Pipeline(lr_bb, LinearRegression(), coef_print=False, return_df=True)\n",
    "plt.hist(resid_df.Residual)\n",
    "plt.show()"
   ]
  },
  {
   "cell_type": "code",
   "execution_count": 17,
   "metadata": {},
   "outputs": [],
   "source": [
    "resid_df[resid_df['Year']==2011].to_csv('resid_map_2011.csv')\n",
    "resid_df[resid_df['Year']==2015].to_csv('resid_map_2015.csv')"
   ]
  },
  {
   "cell_type": "markdown",
   "metadata": {},
   "source": [
    "Since this project is based on geographical units, it makes sense to map our residuals to see if there are any patterns. Below are two maps of the residuals for 2015 and 2011, with the coloration corresponding to the number of standard deviations from the mean of the residuals for that particular year. Put simply, red counties are overpredicted, and blue counties are underpredicted.\n",
    "\n",
    "These maps achieve the objective of this project: they identify areas that are underserved in home broadband subscription based on rigorous statistical calculation of factors that lead to broadband subscription rates. It should be noted that they are results from the generalized linear regression model rather than the segmented models from the \"Further Optimization\" section, but they still provide us, and telecom companies that are the theoretical consumers of this project, useful information. For example, it looks like in the most recent map that Arkansas, Mississippi and Lousiana in the south are the most underserved and could benefit from market expansion. Same with some areas of southern Virginia as well."
   ]
  },
  {
   "cell_type": "markdown",
   "metadata": {},
   "source": [
    "![2015 Residuals](2015_r_map.png)\n",
    "<center> **2015 Residuals** </center>\n",
    "\n",
    "![2011 Residuals](2011_r_map.png)\n",
    "<center> **2011 Residuals** </center>"
   ]
  },
  {
   "cell_type": "markdown",
   "metadata": {},
   "source": [
    "## Conclusions"
   ]
  },
  {
   "cell_type": "markdown",
   "metadata": {},
   "source": [
    "This project has successfully provided a predictive model for BSC, achieving an RMSE of .57 in the generalized model and as low as .45 for subsets of the data. Data was collected from a variety of sources, cleaned, and arranged. EDA was undertaken to determine general patterns in the data, as well as discovery of highly correlated features. In this final unit, a predictive linear regression model was built, simplified in two different ways, and used to produce a valuable map of residuals.\n",
    "\n",
    "Further research could be undertaken to understand the high variance and poor predictability of in rural counties. Development of a feature that performs particularly well in rural counties would be very valuable in reducing overall RMSE. Additionally, spatial interpolation techniques could be used to improve accuracy of the predictions even further. I may return to this project in the future to do that, but will leave it for now."
   ]
  }
 ],
 "metadata": {
  "kernelspec": {
   "display_name": "Python 3",
   "language": "python",
   "name": "python3"
  },
  "language_info": {
   "codemirror_mode": {
    "name": "ipython",
    "version": 3
   },
   "file_extension": ".py",
   "mimetype": "text/x-python",
   "name": "python",
   "nbconvert_exporter": "python",
   "pygments_lexer": "ipython3",
   "version": "3.6.3"
  }
 },
 "nbformat": 4,
 "nbformat_minor": 2
}
